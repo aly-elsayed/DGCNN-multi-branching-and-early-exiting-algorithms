{
  "cells": [
    {
      "cell_type": "markdown",
      "metadata": {
        "id": "6XS_6buTBwPl"
      },
      "source": [
        "### **Import and Install Libraries. Download Dataset.**"
      ]
    },
    {
      "cell_type": "code",
      "execution_count": 1,
      "metadata": {
        "colab": {
          "base_uri": "https://localhost:8080/"
        },
        "id": "n2WB_AlhDx9_",
        "outputId": "ba5980e0-b48b-4c18-fd1c-2033c0dd0597"
      },
      "outputs": [
        {
          "name": "stdout",
          "output_type": "stream",
          "text": [
            "Collecting torchinfo\n",
            "  Downloading torchinfo-1.8.0-py3-none-any.whl (23 kB)\n",
            "Installing collected packages: torchinfo\n",
            "Successfully installed torchinfo-1.8.0\n"
          ]
        }
      ],
      "source": [
        "!pip install torchinfo"
      ]
    },
    {
      "cell_type": "code",
      "execution_count": 2,
      "metadata": {
        "id": "rZLVYrPJeOk2"
      },
      "outputs": [],
      "source": [
        "import pandas as pd\n",
        "import seaborn as sn\n",
        "import matplotlib.pyplot as plt\n",
        "import os\n",
        "import sys\n",
        "import glob\n",
        "import h5py\n",
        "import numpy as np\n",
        "from torch.utils.data import Dataset\n",
        "from __future__ import print_function\n",
        "import os\n",
        "import argparse\n",
        "from scipy.stats import entropy\n",
        "import torch\n",
        "import torch.nn as nn\n",
        "import torch.nn.functional as F\n",
        "import torch.optim as optim\n",
        "from torch.optim.lr_scheduler import CosineAnnealingLR\n",
        "import numpy as np\n",
        "from torch.utils.data import DataLoader, random_split\n",
        "from torchinfo import summary\n",
        "import sklearn.metrics as metrics\n",
        "import copy\n",
        "import math\n",
        "import time"
      ]
    },
    {
      "cell_type": "code",
      "execution_count": 3,
      "metadata": {
        "colab": {
          "base_uri": "https://localhost:8080/"
        },
        "id": "4UH_X_YHfYkK",
        "outputId": "93dc7b6c-b268-4731-aaeb-8deacb595e01"
      },
      "outputs": [
        {
          "name": "stdout",
          "output_type": "stream",
          "text": [
            "--2024-04-26 10:52:30--  https://shapenet.cs.stanford.edu/media/modelnet40_ply_hdf5_2048.zip\n",
            "Resolving shapenet.cs.stanford.edu (shapenet.cs.stanford.edu)... 171.67.77.19\n",
            "Connecting to shapenet.cs.stanford.edu (shapenet.cs.stanford.edu)|171.67.77.19|:443... connected.\n",
            "WARNING: cannot verify shapenet.cs.stanford.edu's certificate, issued by ‘CN=InCommon RSA Server CA,OU=InCommon,O=Internet2,L=Ann Arbor,ST=MI,C=US’:\n",
            "  Issued certificate has expired.\n",
            "HTTP request sent, awaiting response... 200 OK\n",
            "Length: 435212151 (415M) [application/zip]\n",
            "Saving to: ‘modelnet40_ply_hdf5_2048.zip’\n",
            "\n",
            "modelnet40_ply_hdf5 100%[===================>] 415.05M  13.0MB/s    in 35s     \n",
            "\n",
            "2024-04-26 10:53:06 (11.8 MB/s) - ‘modelnet40_ply_hdf5_2048.zip’ saved [435212151/435212151]\n",
            "\n"
          ]
        }
      ],
      "source": [
        "!wget --no-check-certificate https://shapenet.cs.stanford.edu/media/modelnet40_ply_hdf5_2048.zip\n",
        "!unzip -q modelnet40_ply_hdf5_2048.zip;"
      ]
    },
    {
      "cell_type": "code",
      "execution_count": 4,
      "metadata": {
        "id": "ekUukrU6v2Kz"
      },
      "outputs": [],
      "source": [
        "import warnings\n",
        "\n",
        "# Ignore specific warnings related to multiprocessing and os.fork\n",
        "warnings.filterwarnings(\"ignore\", category=RuntimeWarning, message=\".*os.fork.*\")"
      ]
    },
    {
      "cell_type": "code",
      "execution_count": 5,
      "metadata": {
        "id": "fTRjk6Lp_cJW"
      },
      "outputs": [],
      "source": [
        "#Class for your arguments\n",
        "class Args:\n",
        "    def __init__(self):\n",
        "        self.exp_name = 'exp'\n",
        "        self.model = 'dgcnn'\n",
        "        self.dataset = 'modelnet40'\n",
        "        self.batch_size = 32\n",
        "        self.test_batch_size = 16\n",
        "        self.epochs = 250\n",
        "        self.use_sgd = True\n",
        "        self.lr = 0.001\n",
        "        self.momentum = 0.9\n",
        "        self.no_cuda = False\n",
        "        self.seed = 1\n",
        "        self.eval = False\n",
        "        self.num_points = 1024\n",
        "        self.dropout = 0.5\n",
        "        self.emb_dims = 1024\n",
        "        self.k = 10\n",
        "        self.model_path = ''"
      ]
    },
    {
      "cell_type": "code",
      "execution_count": 6,
      "metadata": {
        "id": "ERQ6I6HnfprZ"
      },
      "outputs": [],
      "source": [
        "#Method to retrieve your training and testing files\n",
        "def getDataFiles(list_filename):\n",
        "    print(list_filename)\n",
        "    return [line.rstrip() for line in open(list_filename)]"
      ]
    },
    {
      "cell_type": "code",
      "execution_count": 7,
      "metadata": {
        "colab": {
          "base_uri": "https://localhost:8080/"
        },
        "id": "y8yn70xofrpU",
        "outputId": "9eddae00-a8d8-46d7-e735-4713ca955206"
      },
      "outputs": [
        {
          "name": "stdout",
          "output_type": "stream",
          "text": [
            "data/modelnet40_ply_hdf5_2048/train_files.txt\n",
            "data/modelnet40_ply_hdf5_2048/test_files.txt\n"
          ]
        }
      ],
      "source": [
        "#Store your dataset in the folder 'data'\n",
        "import shutil\n",
        "os.mkdir('data')\n",
        "shutil.move('modelnet40_ply_hdf5_2048', 'data')\n",
        "TRAIN_FILES = getDataFiles( \\\n",
        "    os.path.join('data/modelnet40_ply_hdf5_2048/train_files.txt'))\n",
        "TEST_FILES = getDataFiles(\\\n",
        "    os.path.join('data/modelnet40_ply_hdf5_2048/test_files.txt'))"
      ]
    },
    {
      "cell_type": "code",
      "execution_count": 8,
      "metadata": {
        "id": "3sIrLnpFg5Gk"
      },
      "outputs": [],
      "source": [
        "def cal_loss(pred, gold, smoothing=True):\n",
        "    ''' Calculate cross entropy loss, apply label smoothing if needed. '''\n",
        "\n",
        "    gold = gold.contiguous().view(-1)\n",
        "\n",
        "    if smoothing:\n",
        "        eps = 0.2\n",
        "        n_class = pred.size(1)\n",
        "\n",
        "        one_hot = torch.zeros_like(pred).scatter(1, gold.view(-1, 1), 1)\n",
        "        one_hot = one_hot * (1 - eps) + (1 - one_hot) * eps / (n_class - 1)\n",
        "        log_prb = F.log_softmax(pred, dim=1)\n",
        "\n",
        "        loss = -(one_hot * log_prb).sum(dim=1).mean()\n",
        "    else:\n",
        "        loss = F.cross_entropy(pred, gold, reduction='mean')\n",
        "\n",
        "    return loss"
      ]
    },
    {
      "cell_type": "code",
      "execution_count": 9,
      "metadata": {
        "id": "B7Te875Og7xc"
      },
      "outputs": [],
      "source": [
        "class IOStream():\n",
        "    \"\"\"\n",
        "    A utility class for outputting text to both console and a file. This class provides a method to concurrently print\n",
        "    information to the console and append it to a file. This can be particularly useful for logging purposes in\n",
        "    applications like long-running processes where monitoring and retaining output history is necessary.\n",
        "\n",
        "    Attributes:\n",
        "    f (file object): File object used to append text to the specified file.\n",
        "    \"\"\"\n",
        "    def __init__(self, path):\n",
        "        \"\"\"\n",
        "        Initialize the IOStream by opening or creating a file for appending text.\n",
        "\n",
        "        Parameters:\n",
        "        path (str): The file path where text will be appended. If the file does not exist, it will be created.\n",
        "        \"\"\"\n",
        "        self.f = open(path, 'a')  # Open the file in append mode.\n",
        "\n",
        "    def cprint(self, text):\n",
        "        \"\"\"\n",
        "        Prints text to the console and appends it to the file initialized in this class instance.\n",
        "\n",
        "        Parameters:\n",
        "        text (str): The text to be printed and logged.\n",
        "        \"\"\"\n",
        "        print(text)  # Print text to console.\n",
        "        self.f.write(text + '\\n')  # Append text to file and add a newline.\n",
        "        self.f.flush()  # Flush the internal buffer, ensuring all file operations are completed immediately.\n",
        "\n",
        "    def close(self):\n",
        "        \"\"\"\n",
        "        Closes the file associated with this instance. It is important to call this method to free up system resources.\n",
        "        \"\"\"\n",
        "        self.f.close()  # Close the file to release resources.\n"
      ]
    },
    {
      "cell_type": "markdown",
      "metadata": {
        "id": "YH-3GRMgB4eu"
      },
      "source": [
        "### **Calculate 10 k-nearest neighbors based on the Euclidean distance $(x_1-x_2)^2$**"
      ]
    },
    {
      "cell_type": "code",
      "execution_count": 10,
      "metadata": {
        "id": "jJz0UTK3h2pV"
      },
      "outputs": [],
      "source": [
        "def knn(x, k):\n",
        "    inner = -2*torch.matmul(x.transpose(2, 1), x)\n",
        "    xx = torch.sum(x**2, dim=1, keepdim=True)\n",
        "    pairwise_distance = -xx - inner - xx.transpose(2, 1)\n",
        "    idx = pairwise_distance.topk(k=k, dim=-1)[1]   # (batch_size, num_points, k)\n",
        "    # print(idx[1,:,1].size, 'idx of knn')\n",
        "    return idx"
      ]
    },
    {
      "cell_type": "code",
      "execution_count": 11,
      "metadata": {
        "id": "soeA9B4Nh3cr"
      },
      "outputs": [],
      "source": [
        "def get_graph_feature(x, k=10, idx=None):\n",
        "    # print(x.shape, 'Input x to get_graph_feature')\n",
        "    batch_size = x.size(0)\n",
        "    num_points = x.size(2)\n",
        "    x = x.view(batch_size, -1, num_points)\n",
        "    if idx is None:\n",
        "        idx = knn(x, k=k)   # (batch_size, num_points, k)\n",
        "    device = torch.device('cuda')\n",
        "    # print(idx)\n",
        "    idx_base = torch.arange(0, batch_size, device=device).view(-1, 1, 1)*num_points\n",
        "\n",
        "    idx = idx + idx_base\n",
        "    # print(idx[1,1,:], 'idx of get_graph_feature')\n",
        "    idx = idx.view(-1)\n",
        "\n",
        "    _, num_dims, _ = x.size()\n",
        "\n",
        "    x = x.transpose(2, 1).contiguous()   # (batch_size, num_points, num_dims)  -> (batch_size*num_points, num_dims) #   batch_size * num_points * k + range(0, batch_size*num_points)\n",
        "    feature = x.view(batch_size*num_points, -1)[idx, :]\n",
        "    feature = feature.view(batch_size, num_points, k, num_dims)\n",
        "    x = x.view(batch_size, num_points, 1, num_dims).repeat(1, 1, k, 1)\n",
        "\n",
        "    feature = torch.cat((feature-x, x), dim=3).permute(0, 3, 1, 2).contiguous()\n",
        "\n",
        "    return feature"
      ]
    },
    {
      "cell_type": "markdown",
      "metadata": {
        "id": "u36SyVuaCKTb"
      },
      "source": [
        "### **DGCNN**"
      ]
    },
    {
      "cell_type": "code",
      "execution_count": 12,
      "metadata": {
        "id": "JU0hruirh9Xt"
      },
      "outputs": [],
      "source": [
        "class DGCNN(nn.Module):\n",
        "    def __init__(self, args, output_channels=40):\n",
        "        super(DGCNN, self).__init__()\n",
        "        self.args = args\n",
        "        self.k = args.k\n",
        "\n",
        "        self.bn1 = nn.BatchNorm2d(64)\n",
        "        self.bn2 = nn.BatchNorm2d(64)\n",
        "        self.bn3 = nn.BatchNorm2d(128)\n",
        "        self.bn4 = nn.BatchNorm2d(256)\n",
        "        self.bn5 = nn.BatchNorm1d(args.emb_dims)\n",
        "\n",
        "        self.conv1 = nn.Sequential(nn.Conv2d(6, 64, kernel_size=1, bias=False),\n",
        "                                   self.bn1,\n",
        "                                   nn.LeakyReLU(negative_slope=0.2))\n",
        "        self.conv2 = nn.Sequential(nn.Conv2d(64*2, 64, kernel_size=1, bias=False),\n",
        "                                   self.bn2,\n",
        "                                   nn.LeakyReLU(negative_slope=0.2))\n",
        "        self.conv3 = nn.Sequential(nn.Conv2d(64*2, 128, kernel_size=1, bias=False),\n",
        "                                   self.bn3,\n",
        "                                   nn.LeakyReLU(negative_slope=0.2))\n",
        "        self.conv4 = nn.Sequential(nn.Conv2d(128*2, 256, kernel_size=1, bias=False),\n",
        "                                   self.bn4,\n",
        "                                   nn.LeakyReLU(negative_slope=0.2))\n",
        "        self.conv5 = nn.Sequential(nn.Conv1d(512, args.emb_dims, kernel_size=1, bias=False),\n",
        "                                   self.bn5,\n",
        "                                   nn.LeakyReLU(negative_slope=0.2))\n",
        "        self.linear1 = nn.Linear(args.emb_dims*2, 512, bias=False)\n",
        "        self.bn6 = nn.BatchNorm1d(512)\n",
        "        self.dp1 = nn.Dropout(p=args.dropout)\n",
        "        self.linear2 = nn.Linear(512, 256)\n",
        "        self.bn7 = nn.BatchNorm1d(256)\n",
        "        self.dp2 = nn.Dropout(p=args.dropout)\n",
        "        self.linear3 = nn.Linear(256, output_channels)\n",
        "\n",
        "    def forward(self, x):\n",
        "        batch_size = x.size(0)\n",
        "        x = get_graph_feature(x, k=self.k)\n",
        "        x = self.conv1(x)\n",
        "        x1 = x.max(dim=-1, keepdim=False)[0]\n",
        "\n",
        "        x = get_graph_feature(x1, k=self.k)\n",
        "        x = self.conv2(x)\n",
        "        x2 = x.max(dim=-1, keepdim=False)[0]\n",
        "\n",
        "        x = get_graph_feature(x2, k=self.k)\n",
        "        x = self.conv3(x)\n",
        "        x3 = x.max(dim=-1, keepdim=False)[0]\n",
        "\n",
        "        x = get_graph_feature(x3, k=self.k)\n",
        "        x = self.conv4(x)\n",
        "        x4 = x.max(dim=-1, keepdim=False)[0]\n",
        "\n",
        "        x = torch.cat((x1, x2, x3, x4), dim=1)\n",
        "\n",
        "        x = self.conv5(x)\n",
        "        x1 = F.adaptive_max_pool1d(x, 1).view(batch_size, -1)\n",
        "        x2 = F.adaptive_avg_pool1d(x, 1).view(batch_size, -1)\n",
        "        x = torch.cat((x1, x2), 1)\n",
        "\n",
        "        x = F.leaky_relu(self.bn6(self.linear1(x)), negative_slope=0.2)\n",
        "        x = self.dp1(x)\n",
        "        x = F.leaky_relu(self.bn7(self.linear2(x)), negative_slope=0.2)\n",
        "        x = self.dp2(x)\n",
        "        x = self.linear3(x)\n",
        "        return x"
      ]
    },
    {
      "cell_type": "markdown",
      "metadata": {
        "id": "j48wtIIvVID2"
      },
      "source": [
        "### **DGCNN EE0**"
      ]
    },
    {
      "cell_type": "code",
      "execution_count": 13,
      "metadata": {
        "id": "ZhsO2Y5HjpKN"
      },
      "outputs": [],
      "source": [
        "class eeModel_EE0(nn.Module):\n",
        "    def __init__(self, args, output_channels=40):\n",
        "        super(eeModel_EE0, self).__init__()\n",
        "\n",
        "        self.args = args\n",
        "        self.k = args.k\n",
        "\n",
        "        self.bn1 = nn.BatchNorm2d(64)\n",
        "        self.bn2 = nn.BatchNorm2d(64)\n",
        "        self.bn3 = nn.BatchNorm2d(128)\n",
        "        self.bn4 = nn.BatchNorm2d(256)\n",
        "        self.bn5 = nn.BatchNorm1d(args.emb_dims)\n",
        "\n",
        "        ################################Base Model###################################\n",
        "        self.baseModelconv1 = nn.Sequential(nn.Conv2d(6, 64, kernel_size=1, bias=False),\n",
        "                                       self.bn1,\n",
        "                                       nn.LeakyReLU(negative_slope=0.2))\n",
        "        #############################################################################\n",
        "\n",
        "        #############################Short Branch####################################\n",
        "        self.shortBranch = nn.Sequential(nn.Linear(128, 512, bias=False),\n",
        "                                         nn.BatchNorm1d(512),\n",
        "                                         nn.LeakyReLU(negative_slope=0.2),\n",
        "                                         nn.Dropout(p=args.dropout),\n",
        "                                         nn.Linear(512, 256),\n",
        "                                         nn.BatchNorm1d(256),\n",
        "                                         nn.LeakyReLU(negative_slope=0.2),\n",
        "                                         nn.Dropout(p=args.dropout),\n",
        "                                         nn.Linear(256, output_channels))\n",
        "        ################################################################################\n",
        "\n",
        "        ####################################Long Branch#################################\n",
        "        self.longBranchboolean = True\n",
        "        self.conv2 = nn.Sequential(nn.Conv2d(64*2, 64, kernel_size=1, bias=False),\n",
        "                                   self.bn2,\n",
        "                                   nn.LeakyReLU(negative_slope=0.2))\n",
        "        self.conv3 = nn.Sequential(nn.Conv2d(64*2, 128, kernel_size=1, bias=False),\n",
        "                                   self.bn3,\n",
        "                                   nn.LeakyReLU(negative_slope=0.2))\n",
        "        self.conv4 = nn.Sequential(nn.Conv2d(128*2, 256, kernel_size=1, bias=False),\n",
        "                                   self.bn4,\n",
        "                                   nn.LeakyReLU(negative_slope=0.2))\n",
        "        self.conv5 = nn.Sequential(nn.Conv1d(512, args.emb_dims, kernel_size=1, bias=False),\n",
        "                                   self.bn5,\n",
        "                                   nn.LeakyReLU(negative_slope=0.2))\n",
        "        self.longBranch = nn.Sequential(nn.Linear(args.emb_dims*2, 512, bias=False),\n",
        "                                         nn.BatchNorm1d(512),\n",
        "                                         nn.LeakyReLU(negative_slope=0.2),\n",
        "                                         nn.Dropout(p=args.dropout),\n",
        "                                         nn.Linear(512, 256),\n",
        "                                         nn.BatchNorm1d(256),\n",
        "                                         nn.LeakyReLU(negative_slope=0.2),\n",
        "                                         nn.Dropout(p=args.dropout),\n",
        "                                         nn.Linear(256, output_channels))\n",
        "        ####################################################################################\n",
        "\n",
        "    def forward(self, x):\n",
        "        batch_size = x.size(0)\n",
        "        x_baseModelconv1 = self.baseModelconv1(get_graph_feature(x, k=self.k)).max(dim=-1, keepdim=False)[0]\n",
        "        x_shortBranch, x_longBranch = self.get_short_branch_output(x_baseModelconv1, batch_size), self.get_long_branch_output(x_baseModelconv1, batch_size)\n",
        "        return x_shortBranch, x_longBranch\n",
        "\n",
        "    def get_short_branch_output(self, x_baseModel, batch_size):\n",
        "        x_shortBranch = self.shortBranch(torch.cat((F.adaptive_max_pool1d(x_baseModel, 1).view(batch_size, -1),\n",
        "                                                    F.adaptive_avg_pool1d(x_baseModel, 1).view(batch_size, -1)), 1))\n",
        "        return x_shortBranch\n",
        "\n",
        "    def get_long_branch_output(self, x_baseModelconv1, batch_size):\n",
        "        x2_longBranch = self.conv2(get_graph_feature(x_baseModelconv1, k=self.k)).max(dim=-1, keepdim=False)[0]\n",
        "        x3_longBranch = self.conv3(get_graph_feature(x2_longBranch, k=self.k)).max(dim=-1, keepdim=False)[0]\n",
        "        x4_longBranch = self.conv4(get_graph_feature(x3_longBranch, k=self.k)).max(dim=-1, keepdim=False)[0]\n",
        "        x_longBranch = self.conv5(torch.cat((x_baseModelconv1, x2_longBranch, x3_longBranch, x4_longBranch), dim=1))\n",
        "        x_longBranch = torch.cat((F.adaptive_max_pool1d(x_longBranch, 1).view(batch_size, -1),\n",
        "                                  F.adaptive_avg_pool1d(x_longBranch, 1).view(batch_size, -1)), 1)\n",
        "        x_longBranch = self.longBranch(x_longBranch)\n",
        "        return x_longBranch"
      ]
    },
    {
      "cell_type": "code",
      "execution_count": 14,
      "metadata": {
        "id": "4AgLkE_7e1NL"
      },
      "outputs": [],
      "source": [
        "def load_data(partition):\n",
        "    \"\"\"\n",
        "    Load pointcloud data and labels from HDF5 files based on the specified partition (train or test).\n",
        "    This function is designed to work within a filesystem structure expected for ModelNet40 dataset files,\n",
        "    aggregating data from multiple files into a single array for both data points and labels.\n",
        "\n",
        "    Parameters:\n",
        "    partition (str): Specifies which dataset partition to load. Expected values are 'train' or 'test'.\n",
        "\n",
        "    Returns:\n",
        "    tuple: A tuple containing two numpy arrays: one for the data (pointclouds) and one for the labels.\n",
        "    \"\"\"\n",
        "    # Define base directory relative to this script's location.\n",
        "    BASE_DIR = os.path.dirname(os.path.abspath(r'\\data\\modelnet40_ply_hdf5_2048'))\n",
        "    # Define data directory path combining base directory with the data subdirectory.\n",
        "    DATA_DIR = os.path.join(BASE_DIR, 'data')\n",
        "\n",
        "    # Initialize lists to hold data and labels from all files.\n",
        "    all_data = []\n",
        "    all_label = []\n",
        "\n",
        "    # Loop over each file matching the pattern for the specified partition.\n",
        "    for h5_name in glob.glob(os.path.join(DATA_DIR, 'modelnet40_ply_hdf5_2048', f'ply_data_{partition}*.h5')):\n",
        "        # Open the HDF5 file for reading.\n",
        "        f = h5py.File(h5_name)\n",
        "        # Load all data points as float32 and labels as int64 from the file.\n",
        "        data = f['data'][:].astype('float32')\n",
        "        label = f['label'][:].astype('int64')\n",
        "        # Ensure the file is closed after its contents are loaded.\n",
        "        f.close()\n",
        "\n",
        "        # Append the data and labels to their respective lists.\n",
        "        all_data.append(data)\n",
        "        all_label.append(label)\n",
        "\n",
        "    # Concatenate all data and labels from the list into single numpy arrays.\n",
        "    all_data = np.concatenate(all_data, axis=0)\n",
        "    all_label = np.concatenate(all_label, axis=0)\n",
        "\n",
        "    # Return the aggregated data and labels.\n",
        "    return all_data, all_label"
      ]
    },
    {
      "cell_type": "code",
      "execution_count": 15,
      "metadata": {
        "id": "b4AH8w7Ke6Nt"
      },
      "outputs": [],
      "source": [
        "def translate_pointcloud(pointcloud):\n",
        "    \"\"\"\n",
        "    Apply a random translation to a pointcloud. This is done by first scaling the pointcloud with a random factor\n",
        "    and then adding a small random shift. This can be used as a data augmentation technique to make models robust\n",
        "    to variations in object position and scale.\n",
        "\n",
        "    Parameters:\n",
        "    pointcloud (np.array): A numpy array of shape (N, 3) where N is the number of points.\n",
        "\n",
        "    Returns:\n",
        "    np.array: The translated pointcloud as a new numpy array of type 'float32'.\n",
        "    \"\"\"\n",
        "    xyz1 = np.random.uniform(low=2./3., high=3./2., size=[3])  # Random scaling factors.\n",
        "    xyz2 = np.random.uniform(low=-0.2, high=0.2, size=[3])    # Random translation offsets.\n",
        "\n",
        "    translated_pointcloud = np.add(np.multiply(pointcloud, xyz1), xyz2).astype('float32')  # Apply scaling and translation\n",
        "    return translated_pointcloud"
      ]
    },
    {
      "cell_type": "code",
      "execution_count": 16,
      "metadata": {
        "id": "nB31Q97vf4bN"
      },
      "outputs": [],
      "source": [
        "def jitter_pointcloud(pointcloud, sigma=0.01, clip=0.02):\n",
        "    \"\"\"\n",
        "    Apply Gaussian noise to a pointcloud. Each point's position is altered by adding a noise vector drawn from a\n",
        "    Gaussian distribution, clipped to a maximum magnitude to prevent excessive perturbation. This augmentation\n",
        "    promotes robustness to small variations or noise.\n",
        "\n",
        "    Parameters:\n",
        "    pointcloud (np.array): A numpy array of shape (N, C) where N is the number of points and C is the number of coordinates.\n",
        "    sigma (float): Standard deviation of the Gaussian noise.\n",
        "    clip (float): Maximum allowed value for noise applied to the point coordinates.\n",
        "\n",
        "    Returns:\n",
        "    np.array: The jittered pointcloud.\n",
        "    \"\"\"\n",
        "    N, C = pointcloud.shape  # Number of points N and dimensions C in the pointcloud.\n",
        "    pointcloud += np.clip(sigma * np.random.randn(N, C), -1*clip, clip)  # Add clipped Gaussian noise.\n",
        "    return pointcloud"
      ]
    },
    {
      "cell_type": "code",
      "execution_count": 17,
      "metadata": {
        "id": "rGxrJjODf7iU"
      },
      "outputs": [],
      "source": [
        "class ModelNet40(Dataset):\n",
        "    \"\"\"\n",
        "    Dataset class for ModelNet40, which includes methods for loading and preprocessing pointcloud data for training or testing.\n",
        "    Data augmentation (translation and shuffling) is applied to training data to improve model generalization.\n",
        "\n",
        "    Attributes:\n",
        "    num_points (int): Number of points per pointcloud to use.\n",
        "    partition (str): Dataset partition to use, either 'train' or 'test'.\n",
        "    \"\"\"\n",
        "    def __init__(self, num_points, partition='train'):\n",
        "        \"\"\"\n",
        "        Initialize the dataset object, loading data and labels according to the specified partition.\n",
        "\n",
        "        Parameters:\n",
        "        num_points (int): Number of points to sample from each pointcloud.\n",
        "        partition (str): Which dataset partition to use, 'train' or 'test'.\n",
        "        \"\"\"\n",
        "        self.data, self.label = load_data(partition)  # Load dataset.\n",
        "        self.num_points = num_points  # Points per pointcloud.\n",
        "        self.partition = partition  # Dataset partition.\n",
        "\n",
        "    def __getitem__(self, item):\n",
        "        \"\"\"\n",
        "        Retrieve a pointcloud and its label, applying data augmentation if in training mode.\n",
        "\n",
        "        Parameters:\n",
        "        item (int): Index of the pointcloud to retrieve.\n",
        "\n",
        "        Returns:\n",
        "        tuple: Tuple containing the pointcloud and its label.\n",
        "        \"\"\"\n",
        "        pointcloud = self.data[item][:self.num_points]  # Get the subset of points.\n",
        "        label = self.label[item]\n",
        "        if self.partition == 'train':  # Conditionally apply augmentations.\n",
        "            pointcloud = translate_pointcloud(pointcloud)\n",
        "            np.random.shuffle(pointcloud)  # Shuffle points to remove any order bias.\n",
        "        return pointcloud, label\n",
        "\n",
        "    def __len__(self):\n",
        "        \"\"\"\n",
        "        Return the total number of pointclouds in the dataset.\n",
        "\n",
        "        Returns:\n",
        "        int: The number of pointclouds.\n",
        "        \"\"\"\n",
        "        return self.data.shape[0]  # Number of pointclouds in the dataset."
      ]
    },
    {
      "cell_type": "code",
      "execution_count": 18,
      "metadata": {
        "id": "eaxTC3jlNufT"
      },
      "outputs": [],
      "source": [
        "# Dictionary for ModelNet40 classes. Helpful when printing confusion matrix. Note that ModelNet40 sorts its classes alphabetically\n",
        "label_dict = {\n",
        "    'airplane': 0,\n",
        "    'bathtub': 1,\n",
        "    'bed': 2,\n",
        "    'bench': 3,\n",
        "    'bookshelf': 4,\n",
        "    'bottle': 5,\n",
        "    'bowl': 6,\n",
        "    'car': 7,\n",
        "    'chair': 8,\n",
        "    'cone': 9,\n",
        "    'cup': 10,\n",
        "    'curtain': 11,\n",
        "    'desk': 12,\n",
        "    'door': 13,\n",
        "    'dresser': 14,\n",
        "    'flower_pot': 15,\n",
        "    'glass_box': 16,\n",
        "    'guitar': 17,\n",
        "    'keyboard': 18,\n",
        "    'lamp': 19,\n",
        "    'laptop': 20,\n",
        "    'mantel': 21,\n",
        "    'monitor': 22,\n",
        "    'night_stand': 23,\n",
        "    'person': 24,\n",
        "    'piano': 25,\n",
        "    'plant': 26,\n",
        "    'radio': 27,\n",
        "    'range_hood': 28,\n",
        "    'sink': 29,\n",
        "    'sofa': 30,\n",
        "    'stairs': 31,\n",
        "    'stool': 32,\n",
        "    'table': 33,\n",
        "    'tent': 34,\n",
        "    'toilet': 35,\n",
        "    'tv_stand': 36,\n",
        "    'vase': 37,\n",
        "    'wardrobe': 38,\n",
        "    'xbox': 39\n",
        "}\n",
        "modes = list(label_dict.keys())"
      ]
    },
    {
      "cell_type": "markdown",
      "metadata": {
        "id": "glMOAvhfCU2r"
      },
      "source": [
        "### **Training and Testing algorithms**"
      ]
    },
    {
      "cell_type": "code",
      "execution_count": 19,
      "metadata": {
        "id": "gYGrRCMWgBGG"
      },
      "outputs": [],
      "source": [
        "def train(args, io):\n",
        "    # 1. Determine the size of the original training dataset\n",
        "    total_train_samples = len(ModelNet40(partition='train', num_points=args.num_points))\n",
        "    train_size = int(0.75 * total_train_samples)  # 60% of the original training dataset\n",
        "    validation_size = total_train_samples - train_size  # Remaining samples for validation\n",
        "\n",
        "    # 2. Split the original training dataset\n",
        "    train_dataset, validation_dataset = random_split(ModelNet40(partition='train', num_points=args.num_points), [train_size, validation_size])\n",
        "\n",
        "    # 3. Create DataLoader for the training and validation datasets\n",
        "    train_loader = DataLoader(train_dataset, num_workers=2, batch_size=args.batch_size, shuffle=True, drop_last=True)\n",
        "    validation_loader = DataLoader(validation_dataset, num_workers=2, batch_size=args.test_batch_size, shuffle=True, drop_last=False)\n",
        "\n",
        "    # Test DataLoader remains unchanged\n",
        "    test_loader = DataLoader(ModelNet40(partition='test', num_points=args.num_points), num_workers=2, batch_size=args.test_batch_size, shuffle=True, drop_last=False)\n",
        "    history = {\"1\": {\"train\": {\"loss\": [], \"accuracy\": []}, \"validation\":{\"loss\": [], \"accuracy\": []}},\n",
        "              \"2\": {\"train\": {\"loss\": [], \"accuracy\": []}, \"validation\":{\"loss\": [], \"accuracy\": []}},\n",
        "              \"T\": {\"train\": {\"loss\": [], \"accuracy\": []}, \"validation\":{\"loss\": [], \"accuracy\": []}}}\n",
        "    loss1_list = []\n",
        "    loss2_list = []\n",
        "    acc1_list = []\n",
        "    acc2_list = []\n",
        "    eStopThreshold, eStopCounter = 8, 0\n",
        "    device = \"cuda\" # Set up your NVIDIA GPU.\n",
        "    model = eeModel_EE0(args).to(device) #Initialize your model.\n",
        "    print(summary(model))## Print your model summary.\n",
        "    print(\"Let's use\", torch.cpu.device_count(), \"GPUs!\") ## Print how many GPUs are being used.\n",
        "\n",
        "    #Set up your optimizer and loss\n",
        "    if args.use_sgd:\n",
        "        print(\"Use SGD\")\n",
        "        opt = optim.SGD(model.parameters(), lr=args.lr*100, momentum=args.momentum, weight_decay=1e-4)\n",
        "    else:\n",
        "        print(\"Use Adam\")\n",
        "        opt = optim.Adam(model.parameters(), lr=args.lr, weight_decay=1e-4)\n",
        "\n",
        "    scheduler = CosineAnnealingLR(opt, args.epochs, eta_min=args.lr)\n",
        "    criterion = cal_loss\n",
        "\n",
        "    best_test_acc = 0\n",
        "    for epoch in range(args.epochs):\n",
        "        loss1Total, loss2Total, totalLoss = 0, 0, 0\n",
        "        acc1Total, acc2Total, totalAcc = 0, 0, 0\n",
        "        loss1Total_v, loss2Total_v, valLoss = 0, 0, 0\n",
        "        acc1Total_v, acc2Total_v, valAcc = 0, 0, 0\n",
        "        train_loss = 0.0\n",
        "        loss = 0\n",
        "        bestAcc = 0\n",
        "        best_loss = 100\n",
        "        preValLoss = 100\n",
        "        scheduler.step()\n",
        "        ####################\n",
        "        # Train\n",
        "        ####################\n",
        "        count = 0.0\n",
        "        model.train()\n",
        "        train_pred = []\n",
        "        train_true = []\n",
        "        for data, label in train_loader:\n",
        "            data, label = data.to(device), label.to(device).squeeze() # Send your input data and label to device e.g. GPU\n",
        "            data = data.permute(0, 2, 1) # Permute your data for subsequent operations\n",
        "            batch_size = data.size()[0] # Retrieve your batch size\n",
        "            opt.zero_grad() # Zero your optimizer\n",
        "            logits1, logits2 = model(data) # Compute unnormalized model outputs e.g. short branch and long branch outputs\n",
        "            loss1, loss2 = criterion(logits1, label), criterion(logits2, label) # Calculate your losses e.g. short branch and long branch losses\n",
        "            loss1_list.append(loss1.item()) # Append your short branch losses\n",
        "            loss2_list.append(loss2.item()) # Append your long branch losses\n",
        "            loss1Total += loss1.item() # Aggregate your short branch losses\n",
        "            loss2Total += loss2.item() # Aggregate your long branch losses\n",
        "            totalLoss += 0.5*loss1.item() + 0.5*loss2.item() # Average your loss\n",
        "            loss1.backward(retain_graph=True) # Backward propagate your short branch loss\n",
        "            loss2.backward(retain_graph=True) # Backward propagate your long branch loss\n",
        "            _, predicted1 = torch.max(logits1, 1) # Max pool your short branch predicitions\n",
        "            _, predicted2 = torch.max(logits2, 1) # Max pool your long branch predicitions\n",
        "            acc1 = metrics.accuracy_score(label.detach().cpu().numpy(), predicted1.detach().cpu().numpy()) # Calculate your short branch accuracy\n",
        "            acc2 = metrics.accuracy_score(label.detach().cpu().numpy(), predicted2.detach().cpu().numpy()) # Calculate your long branch accurac\n",
        "            acc1_list.append(acc1) # Append your short branch accuracies\n",
        "            acc2_list.append(acc2) # Append your long branch accuracies\n",
        "            acc1Total += acc1 # Aggregate your short branch accuracies\n",
        "            acc2Total += acc2 # Aggregate your long branch accuracies\n",
        "            totalAcc += 0.5*acc1+0.5*acc2 # Average your accuracy\n",
        "            opt.step() # Step your optimizer\n",
        "            count += batch_size # Recursively add number of prediciton counts\n",
        "        loss1Total = loss1Total/len(train_loader) # Normalize your short branch losses\n",
        "        loss2Total = loss2Total/len(train_loader) # Normalize your long branch losses\n",
        "        totalLoss = totalLoss/len(train_loader) # Normalize your total loss\n",
        "        acc1Total = acc1Total/len(train_loader) # Normalize your short branch accuracy\n",
        "        acc2Total = acc2Total/len(train_loader) # Normalize your long branch accuracy\n",
        "        totalAcc = totalAcc/len(train_loader) # Normalize your total accuracy\n",
        "        ############## Append to your history dictionaty################\n",
        "        history[\"1\"][\"train\"][\"loss\"].append(loss1Total)\n",
        "        history[\"1\"][\"train\"][\"accuracy\"].append(acc1Total)\n",
        "        history[\"2\"][\"train\"][\"loss\"].append(loss2Total)\n",
        "        history[\"2\"][\"train\"][\"accuracy\"].append(acc2Total)\n",
        "        history[\"T\"][\"train\"][\"loss\"].append(totalLoss)\n",
        "        history[\"T\"][\"train\"][\"accuracy\"].append(totalAcc)\n",
        "        ###############################################################\n",
        "        print(\"epoch {} --> trainLoss: {:0.3f}, trainAcc: {:0.3f}\" # Print your epoch, total normalized loss, total normalized accuracy.\n",
        "                  .format(epoch+1, totalLoss, totalAcc), end=\"\")\n",
        "\n",
        "        ####################### Validation is identical training####################\n",
        "        if validation_loader:\n",
        "          with torch.no_grad():\n",
        "            model.eval() # Set up your model for evaluation\n",
        "            for data, label in validation_loader:\n",
        "              data, label = data.to(device), label.to(device).squeeze()\n",
        "              data = data.permute(0, 2, 1)\n",
        "              batch_size = data.size()[0]\n",
        "              opt.zero_grad()\n",
        "              logits1, logits2 = model(data) ## ADD TWO LOGITS\n",
        "\n",
        "              loss1, loss2 = criterion(logits1, label.long()), criterion(logits2, label.long())\n",
        "              loss1Total_v += loss1.item()\n",
        "              loss2Total_v += loss2.item()\n",
        "              valLoss += 0.5*loss1.item() + 0.5*loss2.item()\n",
        "\n",
        "              _, predicted1 = torch.max(logits1, 1)\n",
        "              _, predicted2 = torch.max(logits2, 1)\n",
        "              acc1 = metrics.accuracy_score(label.detach().cpu().numpy(), predicted1.detach().cpu().numpy())\n",
        "              acc2 = metrics.accuracy_score(label.detach().cpu().numpy(), predicted2.detach().cpu().numpy())\n",
        "\n",
        "              acc1Total_v += acc1\n",
        "              acc2Total_v += acc2\n",
        "              valAcc += 0.5*acc1 + 0.5*acc2\n",
        "\n",
        "            loss1Total_v = loss1Total_v/len(validation_loader)\n",
        "            loss2Total_v = loss2Total_v/len(validation_loader)\n",
        "            valLoss = valLoss/len(validation_loader)\n",
        "            acc1Total_v = acc1Total_v/len(validation_loader)\n",
        "            acc2Total_v = acc2Total_v/len(validation_loader)\n",
        "            valAcc = valAcc/len(validation_loader)\n",
        "\n",
        "            history[\"1\"][\"validation\"][\"loss\"].append(loss1Total_v)\n",
        "            history[\"1\"][\"validation\"][\"accuracy\"].append(acc1Total_v)\n",
        "            history[\"2\"][\"validation\"][\"loss\"].append(loss2Total_v)\n",
        "            history[\"2\"][\"validation\"][\"accuracy\"].append(acc2Total_v)\n",
        "            history[\"T\"][\"validation\"][\"loss\"].append(valLoss)\n",
        "            history[\"T\"][\"validation\"][\"accuracy\"].append(valAcc)\n",
        "\n",
        "          print(\", validLoss: {:0.3f}, validAcc: {:0.3f}\"\n",
        "                  .format(valLoss, valAcc))\n",
        "#############Save best performing model if current test accuracy outperforms the recorded best accuracy#############\n",
        "          if valLoss <= best_loss:\n",
        "            # Save the model with the lowest validation loss.\n",
        "            best_loss = valLoss\n",
        "            torch.save(model.state_dict(), 'checkpoints/%s/models/model.pth' % args.exp_name)\n",
        "            print(\"Model Saved!\")\n",
        "#####################################################################################################################\n",
        "\n",
        "########################Stop training if validation loss is increasing#############################\n",
        "          if valLoss >= preValLoss:\n",
        "            eStopCounter += 1\n",
        "            if eStopCounter >= eStopThreshold:\n",
        "              print(\"Training Stopped!\")\n",
        "              break;\n",
        "          else:\n",
        "            eStopCounter = 0\n",
        "          preValLoss = valLoss\n",
        "        else:\n",
        "          print(\"\")\n",
        "#####################################################################################################\n",
        "    return model, history"
      ]
    },
    {
      "cell_type": "code",
      "execution_count": 20,
      "metadata": {
        "id": "oy1DG9OAlwYg"
      },
      "outputs": [],
      "source": [
        "train_demo = ModelNet40(1024)\n",
        "test_demo = ModelNet40(1024, 'test')"
      ]
    },
    {
      "cell_type": "code",
      "execution_count": 21,
      "metadata": {
        "id": "1wNYf788EJk2"
      },
      "outputs": [],
      "source": [
        "#Initialize your hyperparametr arguments\n",
        "args = Args()"
      ]
    },
    {
      "cell_type": "code",
      "execution_count": 22,
      "metadata": {
        "colab": {
          "base_uri": "https://localhost:8080/"
        },
        "id": "N05X14SdBmwb",
        "outputId": "d5dc90d7-f92a-4836-aedc-31936fa93b27"
      },
      "outputs": [
        {
          "data": {
            "text/plain": [
              "256"
            ]
          },
          "execution_count": 22,
          "metadata": {},
          "output_type": "execute_result"
        }
      ],
      "source": [
        "if not os.path.exists('checkpoints'):\n",
        "  os.makedirs('checkpoints')\n",
        "if not os.path.exists('checkpoints/'+args.exp_name):\n",
        "  os.makedirs('checkpoints/'+args.exp_name)\n",
        "if not os.path.exists('checkpoints/'+args.exp_name+'/'+'models'):\n",
        "  os.makedirs('checkpoints/'+args.exp_name+'/'+'models')\n",
        "os.system('cp main.py checkpoints'+'/'+args.exp_name+'/'+'main.py.backup')\n",
        "os.system('cp model.py checkpoints' + '/' + args.exp_name + '/' + 'model.py.backup')\n",
        "os.system('cp util.py checkpoints' + '/' + args.exp_name + '/' + 'util.py.backup')\n",
        "os.system('cp data.py checkpoints' + '/' + args.exp_name + '/' + 'data.py.backup')"
      ]
    },
    {
      "cell_type": "code",
      "execution_count": 23,
      "metadata": {
        "id": "jKeuCJWJ_Mr9"
      },
      "outputs": [],
      "source": [
        "io = IOStream('checkpoints/' + args.exp_name + '/run.log')\n",
        "args.no_cuda = False\n",
        "args.cuda = not args.no_cuda and torch.cuda.is_available()"
      ]
    },
    {
      "cell_type": "code",
      "execution_count": 24,
      "metadata": {
        "colab": {
          "base_uri": "https://localhost:8080/"
        },
        "id": "PfpAkmrEq0-y",
        "outputId": "1628f14f-6249-4b6f-8154-0d5875a8f0f2"
      },
      "outputs": [
        {
          "name": "stdout",
          "output_type": "stream",
          "text": [
            "=================================================================\n",
            "Layer (type:depth-idx)                   Param #\n",
            "=================================================================\n",
            "eeModel_E0                               --\n",
            "├─BatchNorm2d: 1-1                       128\n",
            "├─BatchNorm2d: 1-2                       128\n",
            "├─BatchNorm2d: 1-3                       256\n",
            "├─BatchNorm2d: 1-4                       512\n",
            "├─BatchNorm1d: 1-5                       2,048\n",
            "├─Sequential: 1-6                        128\n",
            "│    └─Conv2d: 2-1                       384\n",
            "│    └─BatchNorm2d: 2-2                  (recursive)\n",
            "│    └─LeakyReLU: 2-3                    --\n",
            "├─Sequential: 1-7                        --\n",
            "│    └─Linear: 2-4                       65,536\n",
            "│    └─BatchNorm1d: 2-5                  1,024\n",
            "│    └─LeakyReLU: 2-6                    --\n",
            "│    └─Dropout: 2-7                      --\n",
            "│    └─Linear: 2-8                       131,328\n",
            "│    └─BatchNorm1d: 2-9                  512\n",
            "│    └─LeakyReLU: 2-10                   --\n",
            "│    └─Dropout: 2-11                     --\n",
            "│    └─Linear: 2-12                      10,280\n",
            "├─Sequential: 1-8                        128\n",
            "│    └─Conv2d: 2-13                      8,192\n",
            "│    └─BatchNorm2d: 2-14                 (recursive)\n",
            "│    └─LeakyReLU: 2-15                   --\n",
            "├─Sequential: 1-9                        256\n",
            "│    └─Conv2d: 2-16                      16,384\n",
            "│    └─BatchNorm2d: 2-17                 (recursive)\n",
            "│    └─LeakyReLU: 2-18                   --\n",
            "├─Sequential: 1-10                       512\n",
            "│    └─Conv2d: 2-19                      65,536\n",
            "│    └─BatchNorm2d: 2-20                 (recursive)\n",
            "│    └─LeakyReLU: 2-21                   --\n",
            "├─Sequential: 1-11                       2,048\n",
            "│    └─Conv1d: 2-22                      524,288\n",
            "│    └─BatchNorm1d: 2-23                 (recursive)\n",
            "│    └─LeakyReLU: 2-24                   --\n",
            "├─Sequential: 1-12                       --\n",
            "│    └─Linear: 2-25                      1,048,576\n",
            "│    └─BatchNorm1d: 2-26                 1,024\n",
            "│    └─LeakyReLU: 2-27                   --\n",
            "│    └─Dropout: 2-28                     --\n",
            "│    └─Linear: 2-29                      131,328\n",
            "│    └─BatchNorm1d: 2-30                 512\n",
            "│    └─LeakyReLU: 2-31                   --\n",
            "│    └─Dropout: 2-32                     --\n",
            "│    └─Linear: 2-33                      10,280\n",
            "=================================================================\n",
            "Total params: 2,021,328\n",
            "Trainable params: 2,021,328\n",
            "Non-trainable params: 0\n",
            "=================================================================\n",
            "Let's use 1 GPUs!\n",
            "Use SGD\n"
          ]
        },
        {
          "name": "stderr",
          "output_type": "stream",
          "text": [
            "/usr/local/lib/python3.10/dist-packages/torch/optim/lr_scheduler.py:143: UserWarning: Detected call of `lr_scheduler.step()` before `optimizer.step()`. In PyTorch 1.1.0 and later, you should call them in the opposite order: `optimizer.step()` before `lr_scheduler.step()`.  Failure to do this will result in PyTorch skipping the first value of the learning rate schedule. See more details at https://pytorch.org/docs/stable/optim.html#how-to-adjust-learning-rate\n",
            "  warnings.warn(\"Detected call of `lr_scheduler.step()` before `optimizer.step()`. \"\n"
          ]
        },
        {
          "name": "stdout",
          "output_type": "stream",
          "text": [
            "epoch 1 --> trainLoss: 2.946, trainAcc: 0.384, validLoss: 2.459, validAcc: 0.512\n",
            "Model Saved!\n",
            "epoch 2 --> trainLoss: 2.423, trainAcc: 0.540, validLoss: 2.272, validAcc: 0.617\n",
            "Model Saved!\n",
            "epoch 3 --> trainLoss: 2.293, trainAcc: 0.598, validLoss: 2.166, validAcc: 0.635\n",
            "Model Saved!\n",
            "epoch 4 --> trainLoss: 2.213, trainAcc: 0.632, validLoss: 2.123, validAcc: 0.665\n",
            "Model Saved!\n",
            "epoch 5 --> trainLoss: 2.162, trainAcc: 0.650, validLoss: 2.099, validAcc: 0.682\n",
            "Model Saved!\n",
            "epoch 6 --> trainLoss: 2.114, trainAcc: 0.672, validLoss: 2.032, validAcc: 0.700\n",
            "Model Saved!\n",
            "epoch 7 --> trainLoss: 2.088, trainAcc: 0.686, validLoss: 2.005, validAcc: 0.713\n",
            "Model Saved!\n",
            "epoch 8 --> trainLoss: 2.060, trainAcc: 0.702, validLoss: 1.972, validAcc: 0.719\n",
            "Model Saved!\n",
            "epoch 9 --> trainLoss: 2.029, trainAcc: 0.715, validLoss: 1.943, validAcc: 0.733\n",
            "Model Saved!\n",
            "epoch 10 --> trainLoss: 2.015, trainAcc: 0.719, validLoss: 1.907, validAcc: 0.767\n",
            "Model Saved!\n",
            "epoch 11 --> trainLoss: 1.996, trainAcc: 0.725, validLoss: 1.878, validAcc: 0.770\n",
            "Model Saved!\n",
            "epoch 12 --> trainLoss: 1.982, trainAcc: 0.731, validLoss: 1.929, validAcc: 0.740\n",
            "Model Saved!\n",
            "epoch 13 --> trainLoss: 1.971, trainAcc: 0.734, validLoss: 1.886, validAcc: 0.759\n",
            "Model Saved!\n",
            "epoch 14 --> trainLoss: 1.962, trainAcc: 0.738, validLoss: 1.881, validAcc: 0.756\n",
            "Model Saved!\n",
            "epoch 15 --> trainLoss: 1.941, trainAcc: 0.746, validLoss: 1.845, validAcc: 0.778\n",
            "Model Saved!\n",
            "epoch 16 --> trainLoss: 1.932, trainAcc: 0.752, validLoss: 1.841, validAcc: 0.775\n",
            "Model Saved!\n",
            "epoch 17 --> trainLoss: 1.927, trainAcc: 0.756, validLoss: 1.847, validAcc: 0.771\n",
            "Model Saved!\n",
            "epoch 18 --> trainLoss: 1.921, trainAcc: 0.757, validLoss: 1.916, validAcc: 0.746\n",
            "Model Saved!\n",
            "epoch 19 --> trainLoss: 1.916, trainAcc: 0.756, validLoss: 1.825, validAcc: 0.775\n",
            "Model Saved!\n",
            "epoch 20 --> trainLoss: 1.913, trainAcc: 0.758, validLoss: 1.844, validAcc: 0.780\n",
            "Model Saved!\n",
            "epoch 21 --> trainLoss: 1.895, trainAcc: 0.771, validLoss: 1.859, validAcc: 0.777\n",
            "Model Saved!\n",
            "epoch 22 --> trainLoss: 1.890, trainAcc: 0.769, validLoss: 1.835, validAcc: 0.774\n",
            "Model Saved!\n",
            "epoch 23 --> trainLoss: 1.887, trainAcc: 0.770, validLoss: 1.827, validAcc: 0.778\n",
            "Model Saved!\n",
            "epoch 24 --> trainLoss: 1.886, trainAcc: 0.772, validLoss: 1.831, validAcc: 0.785\n",
            "Model Saved!\n",
            "epoch 25 --> trainLoss: 1.872, trainAcc: 0.777, validLoss: 1.785, validAcc: 0.799\n",
            "Model Saved!\n",
            "epoch 26 --> trainLoss: 1.867, trainAcc: 0.779, validLoss: 1.831, validAcc: 0.787\n",
            "Model Saved!\n",
            "epoch 27 --> trainLoss: 1.868, trainAcc: 0.778, validLoss: 1.862, validAcc: 0.766\n",
            "Model Saved!\n",
            "epoch 28 --> trainLoss: 1.875, trainAcc: 0.774, validLoss: 1.867, validAcc: 0.770\n",
            "Model Saved!\n",
            "epoch 29 --> trainLoss: 1.860, trainAcc: 0.782, validLoss: 1.782, validAcc: 0.800\n",
            "Model Saved!\n",
            "epoch 30 --> trainLoss: 1.858, trainAcc: 0.784, validLoss: 1.796, validAcc: 0.803\n",
            "Model Saved!\n",
            "epoch 31 --> trainLoss: 1.850, trainAcc: 0.786, validLoss: 1.821, validAcc: 0.789\n",
            "Model Saved!\n",
            "epoch 32 --> trainLoss: 1.844, trainAcc: 0.791, validLoss: 1.868, validAcc: 0.766\n",
            "Model Saved!\n",
            "epoch 33 --> trainLoss: 1.845, trainAcc: 0.785, validLoss: 1.804, validAcc: 0.789\n",
            "Model Saved!\n",
            "epoch 34 --> trainLoss: 1.844, trainAcc: 0.792, validLoss: 1.788, validAcc: 0.789\n",
            "Model Saved!\n",
            "epoch 35 --> trainLoss: 1.830, trainAcc: 0.794, validLoss: 1.825, validAcc: 0.787\n",
            "Model Saved!\n",
            "epoch 36 --> trainLoss: 1.838, trainAcc: 0.794, validLoss: 1.853, validAcc: 0.773\n",
            "Model Saved!\n",
            "epoch 37 --> trainLoss: 1.834, trainAcc: 0.792, validLoss: 1.803, validAcc: 0.793\n",
            "Model Saved!\n",
            "epoch 38 --> trainLoss: 1.829, trainAcc: 0.796, validLoss: 1.776, validAcc: 0.803\n",
            "Model Saved!\n",
            "epoch 39 --> trainLoss: 1.828, trainAcc: 0.796, validLoss: 1.790, validAcc: 0.793\n",
            "Model Saved!\n",
            "epoch 40 --> trainLoss: 1.832, trainAcc: 0.794, validLoss: 1.802, validAcc: 0.794\n",
            "Model Saved!\n",
            "epoch 41 --> trainLoss: 1.817, trainAcc: 0.803, validLoss: 1.788, validAcc: 0.800\n",
            "Model Saved!\n",
            "epoch 42 --> trainLoss: 1.813, trainAcc: 0.801, validLoss: 1.882, validAcc: 0.757\n",
            "Model Saved!\n",
            "epoch 43 --> trainLoss: 1.826, trainAcc: 0.797, validLoss: 1.802, validAcc: 0.780\n",
            "Model Saved!\n",
            "epoch 44 --> trainLoss: 1.817, trainAcc: 0.801, validLoss: 1.772, validAcc: 0.800\n",
            "Model Saved!\n",
            "epoch 45 --> trainLoss: 1.812, trainAcc: 0.801, validLoss: 1.789, validAcc: 0.797\n",
            "Model Saved!\n",
            "epoch 46 --> trainLoss: 1.814, trainAcc: 0.802, validLoss: 1.770, validAcc: 0.815\n",
            "Model Saved!\n",
            "epoch 47 --> trainLoss: 1.806, trainAcc: 0.805, validLoss: 1.775, validAcc: 0.808\n",
            "Model Saved!\n",
            "epoch 48 --> trainLoss: 1.802, trainAcc: 0.805, validLoss: 1.787, validAcc: 0.803\n",
            "Model Saved!\n",
            "epoch 49 --> trainLoss: 1.799, trainAcc: 0.808, validLoss: 1.776, validAcc: 0.792\n",
            "Model Saved!\n",
            "epoch 50 --> trainLoss: 1.805, trainAcc: 0.805, validLoss: 1.751, validAcc: 0.815\n",
            "Model Saved!\n",
            "epoch 51 --> trainLoss: 1.790, trainAcc: 0.812, validLoss: 1.774, validAcc: 0.787\n",
            "Model Saved!\n",
            "epoch 52 --> trainLoss: 1.787, trainAcc: 0.813, validLoss: 1.754, validAcc: 0.811\n",
            "Model Saved!\n",
            "epoch 53 --> trainLoss: 1.800, trainAcc: 0.806, validLoss: 1.853, validAcc: 0.772\n",
            "Model Saved!\n",
            "epoch 54 --> trainLoss: 1.797, trainAcc: 0.809, validLoss: 1.798, validAcc: 0.791\n",
            "Model Saved!\n",
            "epoch 55 --> trainLoss: 1.798, trainAcc: 0.806, validLoss: 1.750, validAcc: 0.817\n",
            "Model Saved!\n",
            "epoch 56 --> trainLoss: 1.788, trainAcc: 0.814, validLoss: 1.805, validAcc: 0.789\n",
            "Model Saved!\n",
            "epoch 57 --> trainLoss: 1.787, trainAcc: 0.814, validLoss: 1.739, validAcc: 0.818\n",
            "Model Saved!\n",
            "epoch 58 --> trainLoss: 1.782, trainAcc: 0.816, validLoss: 1.820, validAcc: 0.784\n",
            "Model Saved!\n",
            "epoch 59 --> trainLoss: 1.769, trainAcc: 0.820, validLoss: 1.752, validAcc: 0.808\n",
            "Model Saved!\n",
            "epoch 60 --> trainLoss: 1.779, trainAcc: 0.815, validLoss: 1.768, validAcc: 0.796\n",
            "Model Saved!\n",
            "epoch 61 --> trainLoss: 1.784, trainAcc: 0.816, validLoss: 1.734, validAcc: 0.823\n",
            "Model Saved!\n",
            "epoch 62 --> trainLoss: 1.775, trainAcc: 0.821, validLoss: 1.740, validAcc: 0.812\n",
            "Model Saved!\n",
            "epoch 63 --> trainLoss: 1.776, trainAcc: 0.818, validLoss: 1.760, validAcc: 0.808\n",
            "Model Saved!\n",
            "epoch 64 --> trainLoss: 1.781, trainAcc: 0.813, validLoss: 1.755, validAcc: 0.813\n",
            "Model Saved!\n",
            "epoch 65 --> trainLoss: 1.770, trainAcc: 0.821, validLoss: 1.803, validAcc: 0.779\n",
            "Model Saved!\n",
            "epoch 66 --> trainLoss: 1.772, trainAcc: 0.820, validLoss: 1.722, validAcc: 0.823\n",
            "Model Saved!\n",
            "epoch 67 --> trainLoss: 1.761, trainAcc: 0.825, validLoss: 1.770, validAcc: 0.805\n",
            "Model Saved!\n",
            "epoch 68 --> trainLoss: 1.763, trainAcc: 0.824, validLoss: 1.761, validAcc: 0.817\n",
            "Model Saved!\n",
            "epoch 69 --> trainLoss: 1.761, trainAcc: 0.824, validLoss: 1.786, validAcc: 0.797\n",
            "Model Saved!\n",
            "epoch 70 --> trainLoss: 1.766, trainAcc: 0.823, validLoss: 1.784, validAcc: 0.799\n",
            "Model Saved!\n",
            "epoch 71 --> trainLoss: 1.754, trainAcc: 0.829, validLoss: 1.721, validAcc: 0.827\n",
            "Model Saved!\n",
            "epoch 72 --> trainLoss: 1.750, trainAcc: 0.830, validLoss: 1.797, validAcc: 0.802\n",
            "Model Saved!\n",
            "epoch 73 --> trainLoss: 1.763, trainAcc: 0.825, validLoss: 1.740, validAcc: 0.820\n",
            "Model Saved!\n",
            "epoch 74 --> trainLoss: 1.756, trainAcc: 0.827, validLoss: 1.728, validAcc: 0.820\n",
            "Model Saved!\n",
            "epoch 75 --> trainLoss: 1.758, trainAcc: 0.825, validLoss: 1.745, validAcc: 0.809\n",
            "Model Saved!\n",
            "epoch 76 --> trainLoss: 1.755, trainAcc: 0.826, validLoss: 1.770, validAcc: 0.810\n",
            "Model Saved!\n",
            "epoch 77 --> trainLoss: 1.749, trainAcc: 0.828, validLoss: 1.748, validAcc: 0.826\n",
            "Model Saved!\n",
            "epoch 78 --> trainLoss: 1.742, trainAcc: 0.832, validLoss: 1.709, validAcc: 0.836\n",
            "Model Saved!\n",
            "epoch 79 --> trainLoss: 1.747, trainAcc: 0.828, validLoss: 1.751, validAcc: 0.819\n",
            "Model Saved!\n",
            "epoch 80 --> trainLoss: 1.745, trainAcc: 0.834, validLoss: 1.738, validAcc: 0.818\n",
            "Model Saved!\n",
            "epoch 81 --> trainLoss: 1.745, trainAcc: 0.831, validLoss: 1.733, validAcc: 0.822\n",
            "Model Saved!\n",
            "epoch 82 --> trainLoss: 1.735, trainAcc: 0.833, validLoss: 1.782, validAcc: 0.806\n",
            "Model Saved!\n",
            "epoch 83 --> trainLoss: 1.741, trainAcc: 0.832, validLoss: 1.733, validAcc: 0.825\n",
            "Model Saved!\n",
            "epoch 84 --> trainLoss: 1.743, trainAcc: 0.833, validLoss: 1.716, validAcc: 0.831\n",
            "Model Saved!\n",
            "epoch 85 --> trainLoss: 1.733, trainAcc: 0.835, validLoss: 1.691, validAcc: 0.836\n",
            "Model Saved!\n",
            "epoch 86 --> trainLoss: 1.731, trainAcc: 0.835, validLoss: 1.734, validAcc: 0.815\n",
            "Model Saved!\n",
            "epoch 87 --> trainLoss: 1.732, trainAcc: 0.839, validLoss: 1.688, validAcc: 0.840\n",
            "Model Saved!\n",
            "epoch 88 --> trainLoss: 1.729, trainAcc: 0.836, validLoss: 1.687, validAcc: 0.837\n",
            "Model Saved!\n",
            "epoch 89 --> trainLoss: 1.724, trainAcc: 0.842, validLoss: 1.697, validAcc: 0.835\n",
            "Model Saved!\n",
            "epoch 90 --> trainLoss: 1.730, trainAcc: 0.838, validLoss: 1.748, validAcc: 0.815\n",
            "Model Saved!\n",
            "epoch 91 --> trainLoss: 1.728, trainAcc: 0.838, validLoss: 1.691, validAcc: 0.832\n",
            "Model Saved!\n",
            "epoch 92 --> trainLoss: 1.727, trainAcc: 0.839, validLoss: 1.714, validAcc: 0.826\n",
            "Model Saved!\n",
            "epoch 93 --> trainLoss: 1.728, trainAcc: 0.838, validLoss: 1.697, validAcc: 0.842\n",
            "Model Saved!\n",
            "epoch 94 --> trainLoss: 1.721, trainAcc: 0.842, validLoss: 1.723, validAcc: 0.821\n",
            "Model Saved!\n",
            "epoch 95 --> trainLoss: 1.717, trainAcc: 0.845, validLoss: 1.721, validAcc: 0.818\n",
            "Model Saved!\n",
            "epoch 96 --> trainLoss: 1.725, trainAcc: 0.839, validLoss: 1.685, validAcc: 0.840\n",
            "Model Saved!\n",
            "epoch 97 --> trainLoss: 1.717, trainAcc: 0.842, validLoss: 1.690, validAcc: 0.824\n",
            "Model Saved!\n",
            "epoch 98 --> trainLoss: 1.712, trainAcc: 0.845, validLoss: 1.686, validAcc: 0.841\n",
            "Model Saved!\n",
            "epoch 99 --> trainLoss: 1.710, trainAcc: 0.847, validLoss: 1.713, validAcc: 0.832\n",
            "Model Saved!\n",
            "epoch 100 --> trainLoss: 1.707, trainAcc: 0.844, validLoss: 1.704, validAcc: 0.830\n",
            "Model Saved!\n",
            "epoch 101 --> trainLoss: 1.714, trainAcc: 0.842, validLoss: 1.765, validAcc: 0.811\n",
            "Model Saved!\n",
            "epoch 102 --> trainLoss: 1.703, trainAcc: 0.847, validLoss: 1.681, validAcc: 0.835\n",
            "Model Saved!\n",
            "epoch 103 --> trainLoss: 1.709, trainAcc: 0.848, validLoss: 1.695, validAcc: 0.831\n",
            "Model Saved!\n",
            "epoch 104 --> trainLoss: 1.717, trainAcc: 0.841, validLoss: 1.766, validAcc: 0.819\n",
            "Model Saved!\n",
            "epoch 105 --> trainLoss: 1.706, trainAcc: 0.849, validLoss: 1.777, validAcc: 0.801\n",
            "Model Saved!\n",
            "epoch 106 --> trainLoss: 1.707, trainAcc: 0.848, validLoss: 1.721, validAcc: 0.831\n",
            "Model Saved!\n",
            "epoch 107 --> trainLoss: 1.698, trainAcc: 0.851, validLoss: 1.682, validAcc: 0.837\n",
            "Model Saved!\n",
            "epoch 108 --> trainLoss: 1.692, trainAcc: 0.852, validLoss: 1.700, validAcc: 0.834\n",
            "Model Saved!\n",
            "epoch 109 --> trainLoss: 1.699, trainAcc: 0.848, validLoss: 1.666, validAcc: 0.838\n",
            "Model Saved!\n",
            "epoch 110 --> trainLoss: 1.697, trainAcc: 0.853, validLoss: 1.677, validAcc: 0.837\n",
            "Model Saved!\n",
            "epoch 111 --> trainLoss: 1.697, trainAcc: 0.851, validLoss: 1.674, validAcc: 0.840\n",
            "Model Saved!\n",
            "epoch 112 --> trainLoss: 1.687, trainAcc: 0.854, validLoss: 1.728, validAcc: 0.826\n",
            "Model Saved!\n",
            "epoch 113 --> trainLoss: 1.692, trainAcc: 0.851, validLoss: 1.679, validAcc: 0.838\n",
            "Model Saved!\n",
            "epoch 114 --> trainLoss: 1.686, trainAcc: 0.856, validLoss: 1.694, validAcc: 0.843\n",
            "Model Saved!\n",
            "epoch 115 --> trainLoss: 1.688, trainAcc: 0.853, validLoss: 1.690, validAcc: 0.828\n",
            "Model Saved!\n",
            "epoch 116 --> trainLoss: 1.686, trainAcc: 0.853, validLoss: 1.672, validAcc: 0.842\n",
            "Model Saved!\n",
            "epoch 117 --> trainLoss: 1.686, trainAcc: 0.855, validLoss: 1.701, validAcc: 0.825\n",
            "Model Saved!\n",
            "epoch 118 --> trainLoss: 1.683, trainAcc: 0.854, validLoss: 1.673, validAcc: 0.849\n",
            "Model Saved!\n",
            "epoch 119 --> trainLoss: 1.682, trainAcc: 0.855, validLoss: 1.687, validAcc: 0.843\n",
            "Model Saved!\n",
            "epoch 120 --> trainLoss: 1.681, trainAcc: 0.855, validLoss: 1.683, validAcc: 0.837\n",
            "Model Saved!\n",
            "epoch 121 --> trainLoss: 1.675, trainAcc: 0.858, validLoss: 1.676, validAcc: 0.837\n",
            "Model Saved!\n",
            "epoch 122 --> trainLoss: 1.677, trainAcc: 0.858, validLoss: 1.703, validAcc: 0.826\n",
            "Model Saved!\n",
            "epoch 123 --> trainLoss: 1.679, trainAcc: 0.859, validLoss: 1.667, validAcc: 0.841\n",
            "Model Saved!\n",
            "epoch 124 --> trainLoss: 1.672, trainAcc: 0.864, validLoss: 1.667, validAcc: 0.849\n",
            "Model Saved!\n",
            "epoch 125 --> trainLoss: 1.665, trainAcc: 0.868, validLoss: 1.679, validAcc: 0.845\n",
            "Model Saved!\n",
            "epoch 126 --> trainLoss: 1.673, trainAcc: 0.860, validLoss: 1.709, validAcc: 0.834\n",
            "Model Saved!\n",
            "epoch 127 --> trainLoss: 1.662, trainAcc: 0.867, validLoss: 1.688, validAcc: 0.841\n",
            "Model Saved!\n",
            "epoch 128 --> trainLoss: 1.673, trainAcc: 0.861, validLoss: 1.638, validAcc: 0.856\n",
            "Model Saved!\n",
            "epoch 129 --> trainLoss: 1.665, trainAcc: 0.863, validLoss: 1.684, validAcc: 0.840\n",
            "Model Saved!\n",
            "epoch 130 --> trainLoss: 1.666, trainAcc: 0.865, validLoss: 1.662, validAcc: 0.847\n",
            "Model Saved!\n",
            "epoch 131 --> trainLoss: 1.663, trainAcc: 0.866, validLoss: 1.655, validAcc: 0.849\n",
            "Model Saved!\n",
            "epoch 132 --> trainLoss: 1.656, trainAcc: 0.869, validLoss: 1.675, validAcc: 0.844\n",
            "Model Saved!\n",
            "epoch 133 --> trainLoss: 1.657, trainAcc: 0.867, validLoss: 1.645, validAcc: 0.854\n",
            "Model Saved!\n",
            "epoch 134 --> trainLoss: 1.654, trainAcc: 0.869, validLoss: 1.650, validAcc: 0.848\n",
            "Model Saved!\n",
            "epoch 135 --> trainLoss: 1.653, trainAcc: 0.870, validLoss: 1.656, validAcc: 0.851\n",
            "Model Saved!\n",
            "epoch 136 --> trainLoss: 1.659, trainAcc: 0.867, validLoss: 1.644, validAcc: 0.852\n",
            "Model Saved!\n",
            "epoch 137 --> trainLoss: 1.656, trainAcc: 0.868, validLoss: 1.701, validAcc: 0.824\n",
            "Model Saved!\n",
            "epoch 138 --> trainLoss: 1.646, trainAcc: 0.869, validLoss: 1.648, validAcc: 0.849\n",
            "Model Saved!\n",
            "epoch 139 --> trainLoss: 1.650, trainAcc: 0.870, validLoss: 1.644, validAcc: 0.851\n",
            "Model Saved!\n",
            "epoch 140 --> trainLoss: 1.644, trainAcc: 0.870, validLoss: 1.654, validAcc: 0.847\n",
            "Model Saved!\n",
            "epoch 141 --> trainLoss: 1.642, trainAcc: 0.874, validLoss: 1.650, validAcc: 0.854\n",
            "Model Saved!\n",
            "epoch 142 --> trainLoss: 1.646, trainAcc: 0.871, validLoss: 1.647, validAcc: 0.856\n",
            "Model Saved!\n",
            "epoch 143 --> trainLoss: 1.642, trainAcc: 0.874, validLoss: 1.644, validAcc: 0.853\n",
            "Model Saved!\n",
            "epoch 144 --> trainLoss: 1.637, trainAcc: 0.875, validLoss: 1.636, validAcc: 0.854\n",
            "Model Saved!\n",
            "epoch 145 --> trainLoss: 1.637, trainAcc: 0.876, validLoss: 1.642, validAcc: 0.849\n",
            "Model Saved!\n",
            "epoch 146 --> trainLoss: 1.642, trainAcc: 0.875, validLoss: 1.640, validAcc: 0.848\n",
            "Model Saved!\n",
            "epoch 147 --> trainLoss: 1.638, trainAcc: 0.876, validLoss: 1.655, validAcc: 0.849\n",
            "Model Saved!\n",
            "epoch 148 --> trainLoss: 1.634, trainAcc: 0.878, validLoss: 1.664, validAcc: 0.839\n",
            "Model Saved!\n",
            "epoch 149 --> trainLoss: 1.631, trainAcc: 0.877, validLoss: 1.631, validAcc: 0.853\n",
            "Model Saved!\n",
            "epoch 150 --> trainLoss: 1.631, trainAcc: 0.880, validLoss: 1.637, validAcc: 0.864\n",
            "Model Saved!\n",
            "epoch 151 --> trainLoss: 1.628, trainAcc: 0.879, validLoss: 1.626, validAcc: 0.856\n",
            "Model Saved!\n",
            "epoch 152 --> trainLoss: 1.628, trainAcc: 0.879, validLoss: 1.641, validAcc: 0.856\n",
            "Model Saved!\n",
            "epoch 153 --> trainLoss: 1.630, trainAcc: 0.879, validLoss: 1.618, validAcc: 0.864\n",
            "Model Saved!\n",
            "epoch 154 --> trainLoss: 1.624, trainAcc: 0.880, validLoss: 1.629, validAcc: 0.860\n",
            "Model Saved!\n",
            "epoch 155 --> trainLoss: 1.618, trainAcc: 0.882, validLoss: 1.617, validAcc: 0.867\n",
            "Model Saved!\n",
            "epoch 156 --> trainLoss: 1.618, trainAcc: 0.884, validLoss: 1.614, validAcc: 0.863\n",
            "Model Saved!\n",
            "epoch 157 --> trainLoss: 1.621, trainAcc: 0.881, validLoss: 1.634, validAcc: 0.853\n",
            "Model Saved!\n",
            "epoch 158 --> trainLoss: 1.622, trainAcc: 0.880, validLoss: 1.626, validAcc: 0.858\n",
            "Model Saved!\n",
            "epoch 159 --> trainLoss: 1.613, trainAcc: 0.884, validLoss: 1.657, validAcc: 0.845\n",
            "Model Saved!\n",
            "epoch 160 --> trainLoss: 1.617, trainAcc: 0.885, validLoss: 1.611, validAcc: 0.863\n",
            "Model Saved!\n",
            "epoch 161 --> trainLoss: 1.616, trainAcc: 0.886, validLoss: 1.600, validAcc: 0.873\n",
            "Model Saved!\n",
            "epoch 162 --> trainLoss: 1.613, trainAcc: 0.885, validLoss: 1.617, validAcc: 0.861\n",
            "Model Saved!\n",
            "epoch 163 --> trainLoss: 1.613, trainAcc: 0.887, validLoss: 1.629, validAcc: 0.862\n",
            "Model Saved!\n",
            "epoch 164 --> trainLoss: 1.608, trainAcc: 0.887, validLoss: 1.609, validAcc: 0.865\n",
            "Model Saved!\n",
            "epoch 165 --> trainLoss: 1.608, trainAcc: 0.889, validLoss: 1.618, validAcc: 0.861\n",
            "Model Saved!\n",
            "epoch 166 --> trainLoss: 1.604, trainAcc: 0.890, validLoss: 1.588, validAcc: 0.872\n",
            "Model Saved!\n",
            "epoch 167 --> trainLoss: 1.602, trainAcc: 0.890, validLoss: 1.615, validAcc: 0.862\n",
            "Model Saved!\n",
            "epoch 168 --> trainLoss: 1.601, trainAcc: 0.891, validLoss: 1.613, validAcc: 0.860\n",
            "Model Saved!\n",
            "epoch 169 --> trainLoss: 1.599, trainAcc: 0.891, validLoss: 1.589, validAcc: 0.874\n",
            "Model Saved!\n",
            "epoch 170 --> trainLoss: 1.608, trainAcc: 0.886, validLoss: 1.605, validAcc: 0.872\n",
            "Model Saved!\n",
            "epoch 171 --> trainLoss: 1.600, trainAcc: 0.892, validLoss: 1.590, validAcc: 0.870\n",
            "Model Saved!\n",
            "epoch 172 --> trainLoss: 1.594, trainAcc: 0.894, validLoss: 1.601, validAcc: 0.865\n",
            "Model Saved!\n",
            "epoch 173 --> trainLoss: 1.594, trainAcc: 0.893, validLoss: 1.609, validAcc: 0.862\n",
            "Model Saved!\n",
            "epoch 174 --> trainLoss: 1.591, trainAcc: 0.895, validLoss: 1.585, validAcc: 0.873\n",
            "Model Saved!\n",
            "epoch 175 --> trainLoss: 1.593, trainAcc: 0.896, validLoss: 1.588, validAcc: 0.868\n",
            "Model Saved!\n",
            "epoch 176 --> trainLoss: 1.584, trainAcc: 0.897, validLoss: 1.595, validAcc: 0.868\n",
            "Model Saved!\n",
            "epoch 177 --> trainLoss: 1.588, trainAcc: 0.896, validLoss: 1.610, validAcc: 0.866\n",
            "Model Saved!\n",
            "epoch 178 --> trainLoss: 1.584, trainAcc: 0.897, validLoss: 1.576, validAcc: 0.876\n",
            "Model Saved!\n",
            "epoch 179 --> trainLoss: 1.582, trainAcc: 0.899, validLoss: 1.583, validAcc: 0.875\n",
            "Model Saved!\n",
            "epoch 180 --> trainLoss: 1.585, trainAcc: 0.899, validLoss: 1.576, validAcc: 0.877\n",
            "Model Saved!\n",
            "epoch 181 --> trainLoss: 1.579, trainAcc: 0.900, validLoss: 1.567, validAcc: 0.882\n",
            "Model Saved!\n",
            "epoch 182 --> trainLoss: 1.582, trainAcc: 0.898, validLoss: 1.571, validAcc: 0.878\n",
            "Model Saved!\n",
            "epoch 183 --> trainLoss: 1.581, trainAcc: 0.898, validLoss: 1.585, validAcc: 0.873\n",
            "Model Saved!\n",
            "epoch 184 --> trainLoss: 1.580, trainAcc: 0.897, validLoss: 1.574, validAcc: 0.875\n",
            "Model Saved!\n",
            "epoch 185 --> trainLoss: 1.576, trainAcc: 0.901, validLoss: 1.591, validAcc: 0.868\n",
            "Model Saved!\n",
            "epoch 186 --> trainLoss: 1.574, trainAcc: 0.905, validLoss: 1.581, validAcc: 0.873\n",
            "Model Saved!\n",
            "epoch 187 --> trainLoss: 1.569, trainAcc: 0.902, validLoss: 1.588, validAcc: 0.866\n",
            "Model Saved!\n",
            "epoch 188 --> trainLoss: 1.573, trainAcc: 0.901, validLoss: 1.585, validAcc: 0.874\n",
            "Model Saved!\n",
            "epoch 189 --> trainLoss: 1.567, trainAcc: 0.904, validLoss: 1.576, validAcc: 0.874\n",
            "Model Saved!\n",
            "epoch 190 --> trainLoss: 1.574, trainAcc: 0.901, validLoss: 1.575, validAcc: 0.876\n",
            "Model Saved!\n",
            "epoch 191 --> trainLoss: 1.566, trainAcc: 0.903, validLoss: 1.567, validAcc: 0.877\n",
            "Model Saved!\n",
            "epoch 192 --> trainLoss: 1.568, trainAcc: 0.904, validLoss: 1.570, validAcc: 0.880\n",
            "Model Saved!\n",
            "epoch 193 --> trainLoss: 1.565, trainAcc: 0.902, validLoss: 1.572, validAcc: 0.876\n",
            "Model Saved!\n",
            "epoch 194 --> trainLoss: 1.560, trainAcc: 0.907, validLoss: 1.577, validAcc: 0.869\n",
            "Model Saved!\n",
            "epoch 195 --> trainLoss: 1.559, trainAcc: 0.907, validLoss: 1.571, validAcc: 0.876\n",
            "Model Saved!\n",
            "epoch 196 --> trainLoss: 1.556, trainAcc: 0.908, validLoss: 1.570, validAcc: 0.870\n",
            "Model Saved!\n",
            "epoch 197 --> trainLoss: 1.558, trainAcc: 0.907, validLoss: 1.576, validAcc: 0.870\n",
            "Model Saved!\n",
            "epoch 198 --> trainLoss: 1.557, trainAcc: 0.908, validLoss: 1.564, validAcc: 0.880\n",
            "Model Saved!\n",
            "epoch 199 --> trainLoss: 1.556, trainAcc: 0.909, validLoss: 1.558, validAcc: 0.881\n",
            "Model Saved!\n",
            "epoch 200 --> trainLoss: 1.556, trainAcc: 0.908, validLoss: 1.569, validAcc: 0.882\n",
            "Model Saved!\n",
            "epoch 201 --> trainLoss: 1.554, trainAcc: 0.910, validLoss: 1.561, validAcc: 0.882\n",
            "Model Saved!\n",
            "epoch 202 --> trainLoss: 1.553, trainAcc: 0.908, validLoss: 1.567, validAcc: 0.876\n",
            "Model Saved!\n",
            "epoch 203 --> trainLoss: 1.551, trainAcc: 0.911, validLoss: 1.563, validAcc: 0.880\n",
            "Model Saved!\n",
            "epoch 204 --> trainLoss: 1.550, trainAcc: 0.910, validLoss: 1.556, validAcc: 0.882\n",
            "Model Saved!\n",
            "epoch 205 --> trainLoss: 1.548, trainAcc: 0.911, validLoss: 1.553, validAcc: 0.886\n",
            "Model Saved!\n",
            "epoch 206 --> trainLoss: 1.547, trainAcc: 0.912, validLoss: 1.561, validAcc: 0.881\n",
            "Model Saved!\n",
            "epoch 207 --> trainLoss: 1.548, trainAcc: 0.912, validLoss: 1.562, validAcc: 0.878\n",
            "Model Saved!\n",
            "epoch 208 --> trainLoss: 1.549, trainAcc: 0.911, validLoss: 1.553, validAcc: 0.881\n",
            "Model Saved!\n",
            "epoch 209 --> trainLoss: 1.547, trainAcc: 0.911, validLoss: 1.557, validAcc: 0.884\n",
            "Model Saved!\n",
            "epoch 210 --> trainLoss: 1.546, trainAcc: 0.913, validLoss: 1.556, validAcc: 0.883\n",
            "Model Saved!\n",
            "epoch 211 --> trainLoss: 1.545, trainAcc: 0.911, validLoss: 1.556, validAcc: 0.885\n",
            "Model Saved!\n",
            "epoch 212 --> trainLoss: 1.537, trainAcc: 0.917, validLoss: 1.551, validAcc: 0.882\n",
            "Model Saved!\n",
            "epoch 213 --> trainLoss: 1.541, trainAcc: 0.914, validLoss: 1.556, validAcc: 0.881\n",
            "Model Saved!\n",
            "epoch 214 --> trainLoss: 1.538, trainAcc: 0.914, validLoss: 1.550, validAcc: 0.883\n",
            "Model Saved!\n",
            "epoch 215 --> trainLoss: 1.538, trainAcc: 0.915, validLoss: 1.549, validAcc: 0.886\n",
            "Model Saved!\n",
            "epoch 216 --> trainLoss: 1.538, trainAcc: 0.914, validLoss: 1.539, validAcc: 0.889\n",
            "Model Saved!\n",
            "epoch 217 --> trainLoss: 1.539, trainAcc: 0.916, validLoss: 1.543, validAcc: 0.890\n",
            "Model Saved!\n",
            "epoch 218 --> trainLoss: 1.535, trainAcc: 0.915, validLoss: 1.543, validAcc: 0.891\n",
            "Model Saved!\n",
            "epoch 219 --> trainLoss: 1.533, trainAcc: 0.915, validLoss: 1.550, validAcc: 0.885\n",
            "Model Saved!\n",
            "epoch 220 --> trainLoss: 1.535, trainAcc: 0.920, validLoss: 1.545, validAcc: 0.884\n",
            "Model Saved!\n",
            "epoch 221 --> trainLoss: 1.534, trainAcc: 0.918, validLoss: 1.551, validAcc: 0.888\n",
            "Model Saved!\n",
            "epoch 222 --> trainLoss: 1.531, trainAcc: 0.917, validLoss: 1.542, validAcc: 0.892\n",
            "Model Saved!\n",
            "epoch 223 --> trainLoss: 1.531, trainAcc: 0.918, validLoss: 1.546, validAcc: 0.889\n",
            "Model Saved!\n",
            "epoch 224 --> trainLoss: 1.532, trainAcc: 0.916, validLoss: 1.549, validAcc: 0.887\n",
            "Model Saved!\n",
            "epoch 225 --> trainLoss: 1.533, trainAcc: 0.917, validLoss: 1.547, validAcc: 0.885\n",
            "Model Saved!\n",
            "epoch 226 --> trainLoss: 1.530, trainAcc: 0.919, validLoss: 1.544, validAcc: 0.887\n",
            "Model Saved!\n",
            "epoch 227 --> trainLoss: 1.530, trainAcc: 0.919, validLoss: 1.547, validAcc: 0.887\n",
            "Model Saved!\n",
            "epoch 228 --> trainLoss: 1.532, trainAcc: 0.917, validLoss: 1.540, validAcc: 0.893\n",
            "Model Saved!\n",
            "epoch 229 --> trainLoss: 1.533, trainAcc: 0.916, validLoss: 1.545, validAcc: 0.885\n",
            "Model Saved!\n",
            "epoch 230 --> trainLoss: 1.529, trainAcc: 0.919, validLoss: 1.541, validAcc: 0.888\n",
            "Model Saved!\n",
            "epoch 231 --> trainLoss: 1.528, trainAcc: 0.918, validLoss: 1.545, validAcc: 0.887\n",
            "Model Saved!\n",
            "epoch 232 --> trainLoss: 1.524, trainAcc: 0.919, validLoss: 1.541, validAcc: 0.888\n",
            "Model Saved!\n",
            "epoch 233 --> trainLoss: 1.527, trainAcc: 0.917, validLoss: 1.545, validAcc: 0.886\n",
            "Model Saved!\n",
            "epoch 234 --> trainLoss: 1.526, trainAcc: 0.921, validLoss: 1.539, validAcc: 0.886\n",
            "Model Saved!\n",
            "epoch 235 --> trainLoss: 1.525, trainAcc: 0.924, validLoss: 1.535, validAcc: 0.892\n",
            "Model Saved!\n",
            "epoch 236 --> trainLoss: 1.528, trainAcc: 0.920, validLoss: 1.538, validAcc: 0.892\n",
            "Model Saved!\n",
            "epoch 237 --> trainLoss: 1.526, trainAcc: 0.919, validLoss: 1.536, validAcc: 0.890\n",
            "Model Saved!\n",
            "epoch 238 --> trainLoss: 1.522, trainAcc: 0.923, validLoss: 1.533, validAcc: 0.892\n",
            "Model Saved!\n",
            "epoch 239 --> trainLoss: 1.524, trainAcc: 0.920, validLoss: 1.540, validAcc: 0.885\n",
            "Model Saved!\n",
            "epoch 240 --> trainLoss: 1.528, trainAcc: 0.920, validLoss: 1.536, validAcc: 0.889\n",
            "Model Saved!\n",
            "epoch 241 --> trainLoss: 1.526, trainAcc: 0.920, validLoss: 1.537, validAcc: 0.889\n",
            "Model Saved!\n",
            "epoch 242 --> trainLoss: 1.525, trainAcc: 0.919, validLoss: 1.537, validAcc: 0.893\n",
            "Model Saved!\n",
            "epoch 243 --> trainLoss: 1.524, trainAcc: 0.918, validLoss: 1.537, validAcc: 0.893\n",
            "Model Saved!\n",
            "epoch 244 --> trainLoss: 1.526, trainAcc: 0.920, validLoss: 1.537, validAcc: 0.890\n",
            "Model Saved!\n",
            "epoch 245 --> trainLoss: 1.522, trainAcc: 0.917, validLoss: 1.535, validAcc: 0.891\n",
            "Model Saved!\n",
            "epoch 246 --> trainLoss: 1.524, trainAcc: 0.921, validLoss: 1.535, validAcc: 0.888\n",
            "Model Saved!\n",
            "epoch 247 --> trainLoss: 1.522, trainAcc: 0.923, validLoss: 1.539, validAcc: 0.888\n",
            "Model Saved!\n",
            "epoch 248 --> trainLoss: 1.524, trainAcc: 0.922, validLoss: 1.535, validAcc: 0.892\n",
            "Model Saved!\n",
            "epoch 249 --> trainLoss: 1.527, trainAcc: 0.919, validLoss: 1.536, validAcc: 0.891\n",
            "Model Saved!\n",
            "epoch 250 --> trainLoss: 1.525, trainAcc: 0.918, validLoss: 1.542, validAcc: 0.891\n",
            "Model Saved!\n"
          ]
        }
      ],
      "source": [
        "model, history = train(args, io)"
      ]
    },
    {
      "cell_type": "code",
      "execution_count": 25,
      "metadata": {
        "id": "l2rDIN0H0j4W"
      },
      "outputs": [],
      "source": [
        "def infer(sLoader, threshold=0.05, verbose=False):\n",
        "    \"\"\"\n",
        "    @Inference: we compare the output confidence (entropy) at a branch with a certain threshold\n",
        "\n",
        "    Parameters:\n",
        "    sLoader (DataLoader): Iterable over the dataset, provides batches of (inputs, groundTruth).\n",
        "    threshold (float): Entropy threshold used to decide the stopping point for shortBranch.\n",
        "    verbose (bool): If True, prints entropy values when they are below the threshold.\n",
        "\n",
        "    Returns:\n",
        "    tuple: A tuple containing the recording dictionary of accuracies, list of predicted labels, and overall accuracy.\n",
        "    \"\"\"\n",
        "\n",
        "    # Softmax layer initialization for converting outputs to probability distributions\n",
        "    softmaxLayer = nn.Softmax(dim=1)\n",
        "\n",
        "    # Initialize accuracy and list to hold predictions\n",
        "    acc = 0\n",
        "    predicted = []\n",
        "\n",
        "    # Dictionary to keep track of accuracy per branch (shortBranch: 0, longBranch: 1)\n",
        "    recorder = {x: [] for x in range(2)}\n",
        "\n",
        "    # Set model to evaluation mode\n",
        "    model.eval()\n",
        "\n",
        "    # Disables gradient calculations for inference, saving memory and computations\n",
        "    with torch.no_grad():\n",
        "        for inputs, gTruth in sLoader:\n",
        "            # Move input and ground truth data to GPU\n",
        "            inputs, gTruth = inputs.to('cuda'), gTruth.to('cuda')\n",
        "            batch_size = inputs.size()[0] # Retrieve your batch size\n",
        "            # Permute dimensions of inputs to fit model's expected input shape\n",
        "            inputs = inputs.permute(0, 2, 1)\n",
        "            # Process inputs through the base part of the model\n",
        "            x = model.baseModelconv1(get_graph_feature(inputs, k=args.k)).max(dim=-1, keepdim=False)[0]\n",
        "            # Iterate through each sample in the batch\n",
        "            for iSample in range(x.shape[0]):\n",
        "                # Process inputs through the short branch of the model\n",
        "                out1 = model.get_short_branch_output(x[iSample:iSample+1], 1)\n",
        "                # Apply softmax to get probabilities\n",
        "                y = softmaxLayer(out1)\n",
        "                # Calculate the entropy of the output probabilities\n",
        "                e = entropy(y.detach().cpu().numpy().squeeze(), base=10)\n",
        "                # Check if entropy is below the threshold\n",
        "                if e <= threshold:\n",
        "                    if verbose:\n",
        "                        print(e)  # Optionally print the entropy\n",
        "                    _, label = torch.max(out1, 1)\n",
        "                    predicted.append(label)\n",
        "                    if label == gTruth[iSample].item():\n",
        "                        recorder[0].append(1)\n",
        "                        acc += 1\n",
        "                    else:\n",
        "                        recorder[0].append(0)\n",
        "                    continue\n",
        "\n",
        "                out2 = model.get_long_branch_output(x[iSample:iSample+1], 1)\n",
        "                _, label = torch.max(out2, 1)\n",
        "                predicted.append(label)\n",
        "                if label == gTruth[iSample].item():\n",
        "                    acc += 1\n",
        "                    recorder[1].append(1)\n",
        "                else:\n",
        "                    recorder[1].append(0)\n",
        "\n",
        "        # Calculate the total accuracy by summing correct predictions divided by total predictions\n",
        "        acc = acc / sum([len(recorder[x]) for x in range(2)])\n",
        "\n",
        "    return recorder, predicted, acc"
      ]
    },
    {
      "cell_type": "code",
      "execution_count": 26,
      "metadata": {
        "id": "xV7xiet2PEdd"
      },
      "outputs": [],
      "source": [
        "def testingSummary(recorder, nBranches=2, overall=True):\n",
        "    \"\"\"\n",
        "    Prints a summary of testing accuracy for each branch and overall if specified.\n",
        "\n",
        "    Parameters:\n",
        "    recorder (dict): Dictionary containing lists of 0s and 1s where 1 represents a correct prediction, indexed by branch number.\n",
        "    nBranches (int): Number of branches in the model.\n",
        "    overall (bool): If True, prints the overall weighted accuracy across all branches.\n",
        "\n",
        "    Outputs:\n",
        "    Prints the accuracy of each branch and optionally the overall accuracy.\n",
        "    \"\"\"\n",
        "\n",
        "    # Header for the summary output\n",
        "    print('Summary')\n",
        "    print(\"======================\")\n",
        "\n",
        "    # Initialize accumulators for overall accuracy calculation\n",
        "    overallAcc, acc = 0, 0\n",
        "\n",
        "    # Calculate the total number of samples across all branches\n",
        "    overallCount = sum([len(recorder[x]) for x in range(nBranches)])\n",
        "\n",
        "    # Iterate through each branch to calculate and display individual accuracies\n",
        "    for i in range(nBranches):\n",
        "        # Number of samples in the current branch\n",
        "        countSamples = len(recorder[i])\n",
        "\n",
        "        # Check if there are samples in the current branch\n",
        "        if countSamples != 0:\n",
        "            # Calculate the accuracy for this branch\n",
        "            acc = recorder[i].count(1) / len(recorder[i])\n",
        "            # Print the accuracy and the percentage of total samples this branch represents\n",
        "            print(\"Branch {}: Accuracy {:.2f}% with {:.2f}% of the samples\".format(i+1, acc*100, countSamples/overallCount*100))\n",
        "        else:\n",
        "            # Handle the case where a branch has no samples\n",
        "            print(\"Branch {}: Got 0% of the samples\".format(i+1))\n",
        "\n",
        "        # Accumulate weighted accuracy for overall calculation\n",
        "        overallAcc += acc * countSamples\n",
        "\n",
        "    # If overall accuracy is to be calculated, display it\n",
        "    if overall:\n",
        "        print(\"Overall Weighted Accuracy: {:.2f}%\".format(overallAcc/overallCount*100))\n",
        "    return(overallAcc/overallCount*100)"
      ]
    },
    {
      "cell_type": "code",
      "execution_count": 27,
      "metadata": {
        "colab": {
          "base_uri": "https://localhost:8080/"
        },
        "id": "Yb9eylNEIahG",
        "outputId": "5c1c0390-160a-40a9-8971-2d3d49527ab2"
      },
      "outputs": [
        {
          "name": "stdout",
          "output_type": "stream",
          "text": [
            "Collecting ptflops\n",
            "  Downloading ptflops-0.7.2.2-py3-none-any.whl (15 kB)\n",
            "Requirement already satisfied: torch in /usr/local/lib/python3.10/dist-packages (from ptflops) (2.2.1+cu121)\n",
            "Requirement already satisfied: filelock in /usr/local/lib/python3.10/dist-packages (from torch->ptflops) (3.13.4)\n",
            "Requirement already satisfied: typing-extensions>=4.8.0 in /usr/local/lib/python3.10/dist-packages (from torch->ptflops) (4.11.0)\n",
            "Requirement already satisfied: sympy in /usr/local/lib/python3.10/dist-packages (from torch->ptflops) (1.12)\n",
            "Requirement already satisfied: networkx in /usr/local/lib/python3.10/dist-packages (from torch->ptflops) (3.3)\n",
            "Requirement already satisfied: jinja2 in /usr/local/lib/python3.10/dist-packages (from torch->ptflops) (3.1.3)\n",
            "Requirement already satisfied: fsspec in /usr/local/lib/python3.10/dist-packages (from torch->ptflops) (2023.6.0)\n",
            "Collecting nvidia-cuda-nvrtc-cu12==12.1.105 (from torch->ptflops)\n",
            "  Using cached nvidia_cuda_nvrtc_cu12-12.1.105-py3-none-manylinux1_x86_64.whl (23.7 MB)\n",
            "Collecting nvidia-cuda-runtime-cu12==12.1.105 (from torch->ptflops)\n",
            "  Using cached nvidia_cuda_runtime_cu12-12.1.105-py3-none-manylinux1_x86_64.whl (823 kB)\n",
            "Collecting nvidia-cuda-cupti-cu12==12.1.105 (from torch->ptflops)\n",
            "  Using cached nvidia_cuda_cupti_cu12-12.1.105-py3-none-manylinux1_x86_64.whl (14.1 MB)\n",
            "Collecting nvidia-cudnn-cu12==8.9.2.26 (from torch->ptflops)\n",
            "  Using cached nvidia_cudnn_cu12-8.9.2.26-py3-none-manylinux1_x86_64.whl (731.7 MB)\n",
            "Collecting nvidia-cublas-cu12==12.1.3.1 (from torch->ptflops)\n",
            "  Using cached nvidia_cublas_cu12-12.1.3.1-py3-none-manylinux1_x86_64.whl (410.6 MB)\n",
            "Collecting nvidia-cufft-cu12==11.0.2.54 (from torch->ptflops)\n",
            "  Using cached nvidia_cufft_cu12-11.0.2.54-py3-none-manylinux1_x86_64.whl (121.6 MB)\n",
            "Collecting nvidia-curand-cu12==10.3.2.106 (from torch->ptflops)\n",
            "  Using cached nvidia_curand_cu12-10.3.2.106-py3-none-manylinux1_x86_64.whl (56.5 MB)\n",
            "Collecting nvidia-cusolver-cu12==11.4.5.107 (from torch->ptflops)\n",
            "  Using cached nvidia_cusolver_cu12-11.4.5.107-py3-none-manylinux1_x86_64.whl (124.2 MB)\n",
            "Collecting nvidia-cusparse-cu12==12.1.0.106 (from torch->ptflops)\n",
            "  Using cached nvidia_cusparse_cu12-12.1.0.106-py3-none-manylinux1_x86_64.whl (196.0 MB)\n",
            "Collecting nvidia-nccl-cu12==2.19.3 (from torch->ptflops)\n",
            "  Using cached nvidia_nccl_cu12-2.19.3-py3-none-manylinux1_x86_64.whl (166.0 MB)\n",
            "Collecting nvidia-nvtx-cu12==12.1.105 (from torch->ptflops)\n",
            "  Using cached nvidia_nvtx_cu12-12.1.105-py3-none-manylinux1_x86_64.whl (99 kB)\n",
            "Requirement already satisfied: triton==2.2.0 in /usr/local/lib/python3.10/dist-packages (from torch->ptflops) (2.2.0)\n",
            "Collecting nvidia-nvjitlink-cu12 (from nvidia-cusolver-cu12==11.4.5.107->torch->ptflops)\n",
            "  Using cached nvidia_nvjitlink_cu12-12.4.127-py3-none-manylinux2014_x86_64.whl (21.1 MB)\n",
            "Requirement already satisfied: MarkupSafe>=2.0 in /usr/local/lib/python3.10/dist-packages (from jinja2->torch->ptflops) (2.1.5)\n",
            "Requirement already satisfied: mpmath>=0.19 in /usr/local/lib/python3.10/dist-packages (from sympy->torch->ptflops) (1.3.0)\n",
            "Installing collected packages: nvidia-nvtx-cu12, nvidia-nvjitlink-cu12, nvidia-nccl-cu12, nvidia-curand-cu12, nvidia-cufft-cu12, nvidia-cuda-runtime-cu12, nvidia-cuda-nvrtc-cu12, nvidia-cuda-cupti-cu12, nvidia-cublas-cu12, nvidia-cusparse-cu12, nvidia-cudnn-cu12, nvidia-cusolver-cu12, ptflops\n",
            "Successfully installed nvidia-cublas-cu12-12.1.3.1 nvidia-cuda-cupti-cu12-12.1.105 nvidia-cuda-nvrtc-cu12-12.1.105 nvidia-cuda-runtime-cu12-12.1.105 nvidia-cudnn-cu12-8.9.2.26 nvidia-cufft-cu12-11.0.2.54 nvidia-curand-cu12-10.3.2.106 nvidia-cusolver-cu12-11.4.5.107 nvidia-cusparse-cu12-12.1.0.106 nvidia-nccl-cu12-2.19.3 nvidia-nvjitlink-cu12-12.4.127 nvidia-nvtx-cu12-12.1.105 ptflops-0.7.2.2\n"
          ]
        }
      ],
      "source": [
        "!pip install ptflops"
      ]
    },
    {
      "cell_type": "code",
      "execution_count": 28,
      "metadata": {
        "id": "P_FNtX2gIUZK"
      },
      "outputs": [],
      "source": [
        "import torch\n",
        "import torchvision.models as models\n",
        "from ptflops import get_model_complexity_info"
      ]
    },
    {
      "cell_type": "markdown",
      "metadata": {},
      "source": [
        "### **Calculate FLOPs of short path e.g. base model and short branch**"
      ]
    },
    {
      "cell_type": "code",
      "execution_count": 29,
      "metadata": {
        "colab": {
          "base_uri": "https://localhost:8080/"
        },
        "id": "5yXon4ULIYBT",
        "outputId": "65109f7b-b7fc-449a-c1c9-67b82cbcc4bb"
      },
      "outputs": [
        {
          "name": "stdout",
          "output_type": "stream",
          "text": [
            "Sequential(\n",
            "  512, 100.000% Params, 5.9 MMac, 100.000% MACs, \n",
            "  (0): Conv2d(384, 75.000% Params, 3.93 MMac, 66.667% MACs, 6, 64, kernel_size=(1, 1), stride=(1, 1), bias=False)\n",
            "  (1): BatchNorm2d(128, 25.000% Params, 1.31 MMac, 22.222% MACs, 64, eps=1e-05, momentum=0.1, affine=True, track_running_stats=True)\n",
            "  (2): LeakyReLU(0, 0.000% Params, 655.36 KMac, 11.111% MACs, negative_slope=0.2)\n",
            ")\n",
            "FLOPs: 5.900000 MMac\n"
          ]
        }
      ],
      "source": [
        "flopsconv1, paramsconv1 = get_model_complexity_info(model.baseModelconv1, (6, 1024, 10), as_strings=True, print_per_layer_stat=True)\n",
        "print('FLOPs: {:2f} MMac'.format(5.9))"
      ]
    },
    {
      "cell_type": "code",
      "execution_count": 30,
      "metadata": {
        "colab": {
          "base_uri": "https://localhost:8080/"
        },
        "id": "32I1XlZlJiD3",
        "outputId": "5badd1ec-ed71-4a05-a1f4-fa3479381f23"
      },
      "outputs": [
        {
          "name": "stdout",
          "output_type": "stream",
          "text": [
            "Sequential(\n",
            "  208.68 k, 100.000% Params, 209.45 KMac, 100.000% MACs, \n",
            "  (0): Linear(65.54 k, 31.405% Params, 65.54 KMac, 31.290% MACs, in_features=128, out_features=512, bias=False)\n",
            "  (1): BatchNorm1d(1.02 k, 0.491% Params, 1.02 KMac, 0.489% MACs, 512, eps=1e-05, momentum=0.1, affine=True, track_running_stats=True)\n",
            "  (2): LeakyReLU(0, 0.000% Params, 512.0 Mac, 0.244% MACs, negative_slope=0.2)\n",
            "  (3): Dropout(0, 0.000% Params, 0.0 Mac, 0.000% MACs, p=0.5, inplace=False)\n",
            "  (4): Linear(131.33 k, 62.933% Params, 131.33 KMac, 62.702% MACs, in_features=512, out_features=256, bias=True)\n",
            "  (5): BatchNorm1d(512, 0.245% Params, 512.0 Mac, 0.244% MACs, 256, eps=1e-05, momentum=0.1, affine=True, track_running_stats=True)\n",
            "  (6): LeakyReLU(0, 0.000% Params, 256.0 Mac, 0.122% MACs, negative_slope=0.2)\n",
            "  (7): Dropout(0, 0.000% Params, 0.0 Mac, 0.000% MACs, p=0.5, inplace=False)\n",
            "  (8): Linear(10.28 k, 4.926% Params, 10.28 KMac, 4.908% MACs, in_features=256, out_features=40, bias=True)\n",
            ")\n",
            "FLOPs: 209.45 KMac\n"
          ]
        }
      ],
      "source": [
        "flops, params = get_model_complexity_info(model.shortBranch, (128, ), as_strings=True, print_per_layer_stat=True)\n",
        "print('FLOPs:', flops)"
      ]
    },
    {
      "cell_type": "code",
      "execution_count": 31,
      "metadata": {
        "colab": {
          "base_uri": "https://localhost:8080/"
        },
        "id": "jRModsL7LwxM",
        "outputId": "fad5ec86-dd49-43ea-b8b6-41e882f465b2"
      },
      "outputs": [
        {
          "name": "stdout",
          "output_type": "stream",
          "text": [
            "Short path FLOPs: 6.109450 MMac\n"
          ]
        }
      ],
      "source": [
        "print('Short path FLOPs: {:2f} MMac'.format(5.9+0.20945))"
      ]
    },
    {
      "cell_type": "code",
      "execution_count": 32,
      "metadata": {
        "colab": {
          "base_uri": "https://localhost:8080/"
        },
        "id": "SyGwqyz0JYiR",
        "outputId": "8773aa15-0844-4e07-af5a-8454128b5c0c"
      },
      "outputs": [
        {
          "name": "stdout",
          "output_type": "stream",
          "text": [
            "Warning: variables __flops__ or __params__ are already defined for the moduleBatchNorm2d ptflops can affect your code!\n",
            "Warning: variables __flops__ or __params__ are already defined for the moduleBatchNorm2d ptflops can affect your code!\n",
            "Warning: variables __flops__ or __params__ are already defined for the moduleBatchNorm2d ptflops can affect your code!\n",
            "Warning: variables __flops__ or __params__ are already defined for the moduleBatchNorm2d ptflops can affect your code!\n",
            "Warning: variables __flops__ or __params__ are already defined for the moduleBatchNorm1d ptflops can affect your code!\n",
            "Warning: parameters of some of the modules were counted twice because of multiple links to the same modules. Extended per layer parameters num statistic could be unreliable.\n",
            "eeModel_E0(\n",
            "  2.02 M, 100.152% Params, 1.5 GMac, 84.532% MACs, \n",
            "  (bn1): BatchNorm2d(128, 0.006% Params, 1.31 MMac, 0.074% MACs, 64, eps=1e-05, momentum=0.1, affine=True, track_running_stats=True)\n",
            "  (bn2): BatchNorm2d(128, 0.006% Params, 1.31 MMac, 0.074% MACs, 64, eps=1e-05, momentum=0.1, affine=True, track_running_stats=True)\n",
            "  (bn3): BatchNorm2d(256, 0.013% Params, 2.62 MMac, 0.148% MACs, 128, eps=1e-05, momentum=0.1, affine=True, track_running_stats=True)\n",
            "  (bn4): BatchNorm2d(512, 0.025% Params, 5.24 MMac, 0.296% MACs, 256, eps=1e-05, momentum=0.1, affine=True, track_running_stats=True)\n",
            "  (bn5): BatchNorm1d(2.05 k, 0.101% Params, 2.1 MMac, 0.118% MACs, 1024, eps=1e-05, momentum=0.1, affine=True, track_running_stats=True)\n",
            "  (baseModelconv1): Sequential(\n",
            "    512, 0.025% Params, 5.9 MMac, 0.333% MACs, \n",
            "    (0): Conv2d(384, 0.019% Params, 3.93 MMac, 0.222% MACs, 6, 64, kernel_size=(1, 1), stride=(1, 1), bias=False)\n",
            "    (1): BatchNorm2d(128, 0.006% Params, 1.31 MMac, 0.074% MACs, 64, eps=1e-05, momentum=0.1, affine=True, track_running_stats=True)\n",
            "    (2): LeakyReLU(0, 0.000% Params, 655.36 KMac, 0.037% MACs, negative_slope=0.2)\n",
            "  )\n",
            "  (shortBranch): Sequential(\n",
            "    208.68 k, 10.340% Params, 209.45 KMac, 0.012% MACs, \n",
            "    (0): Linear(65.54 k, 3.247% Params, 65.54 KMac, 0.004% MACs, in_features=128, out_features=512, bias=False)\n",
            "    (1): BatchNorm1d(1.02 k, 0.051% Params, 1.02 KMac, 0.000% MACs, 512, eps=1e-05, momentum=0.1, affine=True, track_running_stats=True)\n",
            "    (2): LeakyReLU(0, 0.000% Params, 512.0 Mac, 0.000% MACs, negative_slope=0.2)\n",
            "    (3): Dropout(0, 0.000% Params, 0.0 Mac, 0.000% MACs, p=0.5, inplace=False)\n",
            "    (4): Linear(131.33 k, 6.507% Params, 131.33 KMac, 0.007% MACs, in_features=512, out_features=256, bias=True)\n",
            "    (5): BatchNorm1d(512, 0.025% Params, 512.0 Mac, 0.000% MACs, 256, eps=1e-05, momentum=0.1, affine=True, track_running_stats=True)\n",
            "    (6): LeakyReLU(0, 0.000% Params, 256.0 Mac, 0.000% MACs, negative_slope=0.2)\n",
            "    (7): Dropout(0, 0.000% Params, 0.0 Mac, 0.000% MACs, p=0.5, inplace=False)\n",
            "    (8): Linear(10.28 k, 0.509% Params, 10.28 KMac, 0.001% MACs, in_features=256, out_features=40, bias=True)\n",
            "  )\n",
            "  (conv2): Sequential(\n",
            "    8.32 k, 0.412% Params, 85.85 MMac, 4.850% MACs, \n",
            "    (0): Conv2d(8.19 k, 0.406% Params, 83.89 MMac, 4.739% MACs, 128, 64, kernel_size=(1, 1), stride=(1, 1), bias=False)\n",
            "    (1): BatchNorm2d(128, 0.006% Params, 1.31 MMac, 0.074% MACs, 64, eps=1e-05, momentum=0.1, affine=True, track_running_stats=True)\n",
            "    (2): LeakyReLU(0, 0.000% Params, 655.36 KMac, 0.037% MACs, negative_slope=0.2)\n",
            "  )\n",
            "  (conv3): Sequential(\n",
            "    16.64 k, 0.824% Params, 171.7 MMac, 9.700% MACs, \n",
            "    (0): Conv2d(16.38 k, 0.812% Params, 167.77 MMac, 9.477% MACs, 128, 128, kernel_size=(1, 1), stride=(1, 1), bias=False)\n",
            "    (1): BatchNorm2d(256, 0.013% Params, 2.62 MMac, 0.148% MACs, 128, eps=1e-05, momentum=0.1, affine=True, track_running_stats=True)\n",
            "    (2): LeakyReLU(0, 0.000% Params, 1.31 MMac, 0.074% MACs, negative_slope=0.2)\n",
            "  )\n",
            "  (conv4): Sequential(\n",
            "    66.05 k, 3.273% Params, 678.95 MMac, 38.354% MACs, \n",
            "    (0): Conv2d(65.54 k, 3.247% Params, 671.09 MMac, 37.910% MACs, 256, 256, kernel_size=(1, 1), stride=(1, 1), bias=False)\n",
            "    (1): BatchNorm2d(512, 0.025% Params, 5.24 MMac, 0.296% MACs, 256, eps=1e-05, momentum=0.1, affine=True, track_running_stats=True)\n",
            "    (2): LeakyReLU(0, 0.000% Params, 2.62 MMac, 0.148% MACs, negative_slope=0.2)\n",
            "  )\n",
            "  (conv5): Sequential(\n",
            "    526.34 k, 26.079% Params, 540.02 MMac, 30.506% MACs, \n",
            "    (0): Conv1d(524.29 k, 25.977% Params, 536.87 MMac, 30.328% MACs, 512, 1024, kernel_size=(1,), stride=(1,), bias=False)\n",
            "    (1): BatchNorm1d(2.05 k, 0.101% Params, 2.1 MMac, 0.118% MACs, 1024, eps=1e-05, momentum=0.1, affine=True, track_running_stats=True)\n",
            "    (2): LeakyReLU(0, 0.000% Params, 1.05 MMac, 0.059% MACs, negative_slope=0.2)\n",
            "  )\n",
            "  (longBranch): Sequential(\n",
            "    1.19 M, 59.047% Params, 1.19 MMac, 0.067% MACs, \n",
            "    (0): Linear(1.05 M, 51.955% Params, 1.05 MMac, 0.059% MACs, in_features=2048, out_features=512, bias=False)\n",
            "    (1): BatchNorm1d(1.02 k, 0.051% Params, 1.02 KMac, 0.000% MACs, 512, eps=1e-05, momentum=0.1, affine=True, track_running_stats=True)\n",
            "    (2): LeakyReLU(0, 0.000% Params, 512.0 Mac, 0.000% MACs, negative_slope=0.2)\n",
            "    (3): Dropout(0, 0.000% Params, 0.0 Mac, 0.000% MACs, p=0.5, inplace=False)\n",
            "    (4): Linear(131.33 k, 6.507% Params, 131.33 KMac, 0.007% MACs, in_features=512, out_features=256, bias=True)\n",
            "    (5): BatchNorm1d(512, 0.025% Params, 512.0 Mac, 0.000% MACs, 256, eps=1e-05, momentum=0.1, affine=True, track_running_stats=True)\n",
            "    (6): LeakyReLU(0, 0.000% Params, 256.0 Mac, 0.000% MACs, negative_slope=0.2)\n",
            "    (7): Dropout(0, 0.000% Params, 0.0 Mac, 0.000% MACs, p=0.5, inplace=False)\n",
            "    (8): Linear(10.28 k, 0.509% Params, 10.28 KMac, 0.001% MACs, in_features=256, out_features=40, bias=True)\n",
            "  )\n",
            ")\n",
            "FLOPs: 1.77 GMac\n"
          ]
        }
      ],
      "source": [
        "flops, params = get_model_complexity_info(model, (3, 1024), as_strings=True, print_per_layer_stat=True)\n",
        "print('FLOPs:', flops)"
      ]
    },
    {
      "cell_type": "markdown",
      "metadata": {},
      "source": [
        "### **Calculate number of parameters of short path e.g. base model and short branch**"
      ]
    },
    {
      "cell_type": "code",
      "execution_count": 33,
      "metadata": {
        "colab": {
          "base_uri": "https://localhost:8080/"
        },
        "id": "7K_kBvvytzVe",
        "outputId": "e8f7c795-e9fc-40cd-bb9e-96af76d8ebff"
      },
      "outputs": [
        {
          "name": "stdout",
          "output_type": "stream",
          "text": [
            "Parameters in Short Path: 209192\n"
          ]
        }
      ],
      "source": [
        "# Function to calculate the total number of parameters\n",
        "def count_parameters(model):\n",
        "    return sum(p.numel() for p in model.parameters() if p.requires_grad)\n",
        "\n",
        "# Parameters in the base model\n",
        "baseModelconv1_params = count_parameters(model.baseModelconv1)\n",
        "\n",
        "# Parameters in the short branch\n",
        "short_path_params = count_parameters(model.shortBranch)\n",
        "\n",
        "print(\"Parameters in Short Path:\", short_path_params+baseModelconv1_params)"
      ]
    },
    {
      "cell_type": "code",
      "execution_count": 34,
      "metadata": {
        "colab": {
          "base_uri": "https://localhost:8080/"
        },
        "id": "3kCXX2hrwNN7",
        "outputId": "83bc6f67-8fbf-450d-cd61-780f869fe023"
      },
      "outputs": [
        {
          "name": "stdout",
          "output_type": "stream",
          "text": [
            "=================================================================\n",
            "Layer (type:depth-idx)                   Param #\n",
            "=================================================================\n",
            "Sequential                               --\n",
            "├─Linear: 1-1                            65,536\n",
            "├─BatchNorm1d: 1-2                       1,024\n",
            "├─LeakyReLU: 1-3                         --\n",
            "├─Dropout: 1-4                           --\n",
            "├─Linear: 1-5                            131,328\n",
            "├─BatchNorm1d: 1-6                       512\n",
            "├─LeakyReLU: 1-7                         --\n",
            "├─Dropout: 1-8                           --\n",
            "├─Linear: 1-9                            10,280\n",
            "=================================================================\n",
            "Total params: 208,680\n",
            "Trainable params: 208,680\n",
            "Non-trainable params: 0\n",
            "=================================================================\n",
            "=================================================================\n",
            "Layer (type:depth-idx)                   Param #\n",
            "=================================================================\n",
            "Sequential                               --\n",
            "├─Conv2d: 1-1                            384\n",
            "├─BatchNorm2d: 1-2                       128\n",
            "├─LeakyReLU: 1-3                         --\n",
            "=================================================================\n",
            "Total params: 512\n",
            "Trainable params: 512\n",
            "Non-trainable params: 0\n",
            "=================================================================\n"
          ]
        }
      ],
      "source": [
        "print(summary(model.shortBranch))\n",
        "print(summary(model.baseModelconv1))"
      ]
    },
    {
      "cell_type": "markdown",
      "metadata": {},
      "source": [
        "### **Measure inference time and overall weighted accuracy with varying entropy**"
      ]
    },
    {
      "cell_type": "code",
      "execution_count": 35,
      "metadata": {
        "id": "x0ln00bI0qZq"
      },
      "outputs": [],
      "source": [
        "test_loader = DataLoader(ModelNet40(partition='test', num_points=args.num_points), num_workers=2, batch_size=args.test_batch_size, shuffle=True, drop_last=False) # Loading test dataset"
      ]
    },
    {
      "cell_type": "code",
      "execution_count": 36,
      "metadata": {
        "id": "Z6-w1P3aMzNT"
      },
      "outputs": [],
      "source": [
        "inference_times = []\n",
        "accuracies = []"
      ]
    },
    {
      "cell_type": "code",
      "execution_count": 37,
      "metadata": {
        "colab": {
          "base_uri": "https://localhost:8080/"
        },
        "id": "MxISoQfSjQbG",
        "outputId": "e1d56303-090e-4b9a-bc0f-ba2112df15d8"
      },
      "outputs": [
        {
          "name": "stdout",
          "output_type": "stream",
          "text": [
            "Inference Time: 10.457916 seconds\n",
            "Summary\n",
            "======================\n",
            "Branch 1: Got 0% of the samples\n",
            "Branch 2: Accuracy 91.98% with 100.00% of the samples\n",
            "Overall Weighted Accuracy: 91.98%\n"
          ]
        }
      ],
      "source": [
        "inference_time = 0\n",
        "start_time = time.time()\n",
        "eeRecorder_V0, preds_V0, acc_V0 = infer(test_loader, threshold=0, verbose=False)\n",
        "inference_time = time.time() - start_time\n",
        "inference_times.append(inference_time)\n",
        "print('Inference Time: {:3f} seconds'.format(inference_time))\n",
        "accuracy = testingSummary(eeRecorder_V0, nBranches=2, overall=True)\n",
        "accuracies.append(accuracy)"
      ]
    },
    {
      "cell_type": "code",
      "execution_count": 38,
      "metadata": {
        "colab": {
          "base_uri": "https://localhost:8080/"
        },
        "id": "NhtT-ZIdk70V",
        "outputId": "504f4ba1-6bc8-4bfb-d19f-df83682532a0"
      },
      "outputs": [
        {
          "name": "stdout",
          "output_type": "stream",
          "text": [
            "Inference Time: 10.588155 seconds\n",
            "Summary\n",
            "======================\n",
            "Branch 1: Accuracy 100.00% with 0.04% of the samples\n",
            "Branch 2: Accuracy 91.97% with 99.96% of the samples\n",
            "Overall Weighted Accuracy: 91.98%\n"
          ]
        }
      ],
      "source": [
        "inference_time = 0\n",
        "start_time = time.time()\n",
        "eeRecorder_V0, preds_V0, acc_V0 = infer(test_loader, threshold=0.1, verbose=False)\n",
        "inference_time = time.time() - start_time\n",
        "inference_times.append(inference_time)\n",
        "print('Inference Time: {:3f} seconds'.format(inference_time))\n",
        "accuracy = testingSummary(eeRecorder_V0, nBranches=2, overall=True)\n",
        "accuracies.append(accuracy)"
      ]
    },
    {
      "cell_type": "code",
      "execution_count": 39,
      "metadata": {
        "colab": {
          "base_uri": "https://localhost:8080/"
        },
        "id": "TQE-rELqk-PF",
        "outputId": "0c240965-5407-4f73-a361-3b756038ef7d"
      },
      "outputs": [
        {
          "name": "stdout",
          "output_type": "stream",
          "text": [
            "Inference Time: 10.224608 seconds\n",
            "Summary\n",
            "======================\n",
            "Branch 1: Accuracy 100.00% with 0.32% of the samples\n",
            "Branch 2: Accuracy 91.95% with 99.68% of the samples\n",
            "Overall Weighted Accuracy: 91.98%\n"
          ]
        }
      ],
      "source": [
        "inference_time = 0\n",
        "start_time = time.time()\n",
        "eeRecorder_V0, preds_V0, acc_V0 = infer(test_loader, threshold=0.2, verbose=False)\n",
        "inference_time = time.time() - start_time\n",
        "inference_times.append(inference_time)\n",
        "print('Inference Time: {:3f} seconds'.format(inference_time))\n",
        "accuracy = testingSummary(eeRecorder_V0, nBranches=2, overall=True)\n",
        "accuracies.append(accuracy)"
      ]
    },
    {
      "cell_type": "code",
      "execution_count": 40,
      "metadata": {
        "colab": {
          "base_uri": "https://localhost:8080/"
        },
        "id": "l0PwWILTk__D",
        "outputId": "8bea46ce-7ade-483e-ccd6-c83baea0a2a6"
      },
      "outputs": [
        {
          "name": "stdout",
          "output_type": "stream",
          "text": [
            "Inference Time: 9.866599 seconds\n",
            "Summary\n",
            "======================\n",
            "Branch 1: Accuracy 100.00% with 1.78% of the samples\n",
            "Branch 2: Accuracy 91.83% with 98.22% of the samples\n",
            "Overall Weighted Accuracy: 91.98%\n"
          ]
        }
      ],
      "source": [
        "inference_time = 0\n",
        "start_time = time.time()\n",
        "eeRecorder_V0, preds_V0, acc_V0 = infer(test_loader, threshold=0.3, verbose=False)\n",
        "inference_time = time.time() - start_time\n",
        "inference_times.append(inference_time)\n",
        "print('Inference Time: {:3f} seconds'.format(inference_time))\n",
        "accuracy = testingSummary(eeRecorder_V0, nBranches=2, overall=True)\n",
        "accuracies.append(accuracy)"
      ]
    },
    {
      "cell_type": "code",
      "execution_count": 41,
      "metadata": {
        "colab": {
          "base_uri": "https://localhost:8080/"
        },
        "id": "SUYayMiwlBpN",
        "outputId": "7e034aa1-c791-46fc-f262-8ba085db6164"
      },
      "outputs": [
        {
          "name": "stdout",
          "output_type": "stream",
          "text": [
            "Inference Time: 9.340453 seconds\n",
            "Summary\n",
            "======================\n",
            "Branch 1: Accuracy 99.54% with 8.83% of the samples\n",
            "Branch 2: Accuracy 91.29% with 91.17% of the samples\n",
            "Overall Weighted Accuracy: 92.02%\n"
          ]
        }
      ],
      "source": [
        "inference_time = 0\n",
        "start_time = time.time()\n",
        "eeRecorder_V0, preds_V0, acc_V0 = infer(test_loader, threshold=0.4, verbose=False)\n",
        "inference_time = time.time() - start_time\n",
        "inference_times.append(inference_time)\n",
        "print('Inference Time: {:3f} seconds'.format(inference_time))\n",
        "accuracy = testingSummary(eeRecorder_V0, nBranches=2, overall=True)\n",
        "accuracies.append(accuracy)"
      ]
    },
    {
      "cell_type": "code",
      "execution_count": 42,
      "metadata": {
        "colab": {
          "base_uri": "https://localhost:8080/"
        },
        "id": "G_9l0jzxlEND",
        "outputId": "94afdeca-9d52-4bc6-ba89-582abb16710e"
      },
      "outputs": [
        {
          "name": "stdout",
          "output_type": "stream",
          "text": [
            "Inference Time: 8.362524 seconds\n",
            "Summary\n",
            "======================\n",
            "Branch 1: Accuracy 99.27% with 22.33% of the samples\n",
            "Branch 2: Accuracy 89.88% with 77.67% of the samples\n",
            "Overall Weighted Accuracy: 91.98%\n"
          ]
        }
      ],
      "source": [
        "inference_time = 0\n",
        "start_time = time.time()\n",
        "eeRecorder_V0, preds_V0, acc_V0 = infer(test_loader, threshold=0.5, verbose=False)\n",
        "inference_time = time.time() - start_time\n",
        "inference_times.append(inference_time)\n",
        "print('Inference Time: {:3f} seconds'.format(inference_time))\n",
        "accuracy = testingSummary(eeRecorder_V0, nBranches=2, overall=True)\n",
        "accuracies.append(accuracy)"
      ]
    },
    {
      "cell_type": "code",
      "execution_count": 43,
      "metadata": {
        "colab": {
          "base_uri": "https://localhost:8080/"
        },
        "id": "TduJVQ9YlF6T",
        "outputId": "65eaa951-9d55-4e16-ab3e-bc239dd6b19b"
      },
      "outputs": [
        {
          "name": "stdout",
          "output_type": "stream",
          "text": [
            "Inference Time: 7.119032 seconds\n",
            "Summary\n",
            "======================\n",
            "Branch 1: Accuracy 98.93% with 38.01% of the samples\n",
            "Branch 2: Accuracy 87.71% with 61.99% of the samples\n",
            "Overall Weighted Accuracy: 91.98%\n"
          ]
        }
      ],
      "source": [
        "inference_time = 0\n",
        "start_time = time.time()\n",
        "eeRecorder_V0, preds_V0, acc_V0 = infer(test_loader, threshold=0.6, verbose=False)\n",
        "inference_time = time.time() - start_time\n",
        "inference_times.append(inference_time)\n",
        "print('Inference Time: {:3f} seconds'.format(inference_time))\n",
        "accuracy = testingSummary(eeRecorder_V0, nBranches=2, overall=True)\n",
        "accuracies.append(accuracy)"
      ]
    },
    {
      "cell_type": "code",
      "execution_count": 44,
      "metadata": {
        "colab": {
          "base_uri": "https://localhost:8080/"
        },
        "id": "kd_1UvQOlHhc",
        "outputId": "6fc1f22e-fe0b-450d-bc28-a635e588d1c2"
      },
      "outputs": [
        {
          "name": "stdout",
          "output_type": "stream",
          "text": [
            "Inference Time: 6.295465 seconds\n",
            "Summary\n",
            "======================\n",
            "Branch 1: Accuracy 98.18% with 48.99% of the samples\n",
            "Branch 2: Accuracy 85.54% with 51.01% of the samples\n",
            "Overall Weighted Accuracy: 91.73%\n"
          ]
        }
      ],
      "source": [
        "inference_time = 0\n",
        "start_time = time.time()\n",
        "eeRecorder_V0, preds_V0, acc_V0 = infer(test_loader, threshold=0.7, verbose=False)\n",
        "inference_time = time.time() - start_time\n",
        "inference_times.append(inference_time)\n",
        "print('Inference Time: {:3f} seconds'.format(inference_time))\n",
        "accuracy = testingSummary(eeRecorder_V0, nBranches=2, overall=True)\n",
        "accuracies.append(accuracy)"
      ]
    },
    {
      "cell_type": "code",
      "execution_count": 45,
      "metadata": {
        "colab": {
          "base_uri": "https://localhost:8080/"
        },
        "id": "UdMnwqQOlJMD",
        "outputId": "1761da63-f8c2-47ea-b5be-495a726c83cc"
      },
      "outputs": [
        {
          "name": "stdout",
          "output_type": "stream",
          "text": [
            "Inference Time: 5.780920 seconds\n",
            "Summary\n",
            "======================\n",
            "Branch 1: Accuracy 97.75% with 59.36% of the samples\n",
            "Branch 2: Accuracy 83.05% with 40.64% of the samples\n",
            "Overall Weighted Accuracy: 91.77%\n"
          ]
        }
      ],
      "source": [
        "inference_time = 0\n",
        "start_time = time.time()\n",
        "eeRecorder_V0, preds_V0, acc_V0 = infer(test_loader, threshold=0.8, verbose=False)\n",
        "inference_time = time.time() - start_time\n",
        "inference_times.append(inference_time)\n",
        "print('Inference Time: {:3f} seconds'.format(inference_time))\n",
        "accuracy = testingSummary(eeRecorder_V0, nBranches=2, overall=True)\n",
        "accuracies.append(accuracy)"
      ]
    },
    {
      "cell_type": "code",
      "execution_count": 46,
      "metadata": {
        "colab": {
          "base_uri": "https://localhost:8080/"
        },
        "id": "Ewn8ofWPlKq6",
        "outputId": "953274e4-9569-4b87-f27f-35dd853e2dc7"
      },
      "outputs": [
        {
          "name": "stdout",
          "output_type": "stream",
          "text": [
            "Inference Time: 4.908690 seconds\n",
            "Summary\n",
            "======================\n",
            "Branch 1: Accuracy 96.11% with 67.75% of the samples\n",
            "Branch 2: Accuracy 81.66% with 32.25% of the samples\n",
            "Overall Weighted Accuracy: 91.45%\n"
          ]
        }
      ],
      "source": [
        "inference_time = 0\n",
        "start_time = time.time()\n",
        "eeRecorder_V0, preds_V0, acc_V0 = infer(test_loader, threshold=0.9, verbose=False)\n",
        "inference_time = time.time() - start_time\n",
        "inference_times.append(inference_time)\n",
        "print('Inference Time: {:3f} seconds'.format(inference_time))\n",
        "accuracy = testingSummary(eeRecorder_V0, nBranches=2, overall=True)\n",
        "accuracies.append(accuracy)"
      ]
    },
    {
      "cell_type": "code",
      "execution_count": 47,
      "metadata": {
        "colab": {
          "base_uri": "https://localhost:8080/"
        },
        "id": "iJLXHLaVC7e7",
        "outputId": "8621305c-915e-441c-9960-f67291911673"
      },
      "outputs": [
        {
          "name": "stdout",
          "output_type": "stream",
          "text": [
            "Inference Time: 4.345482 seconds\n",
            "Summary\n",
            "======================\n",
            "Branch 1: Accuracy 94.31% with 76.26% of the samples\n",
            "Branch 2: Accuracy 79.52% with 23.74% of the samples\n",
            "Overall Weighted Accuracy: 90.80%\n"
          ]
        }
      ],
      "source": [
        "inference_time = 0\n",
        "start_time = time.time()\n",
        "eeRecorder_V0, preds_V0, acc_V0 = infer(test_loader, threshold=1, verbose=False)\n",
        "inference_time = time.time() - start_time\n",
        "inference_times.append(inference_time)\n",
        "print('Inference Time: {:3f} seconds'.format(inference_time))\n",
        "accuracy = testingSummary(eeRecorder_V0, nBranches=2, overall=True)\n",
        "accuracies.append(accuracy)"
      ]
    },
    {
      "cell_type": "code",
      "execution_count": 48,
      "metadata": {
        "colab": {
          "base_uri": "https://localhost:8080/"
        },
        "id": "QHDKqmxZlMGj",
        "outputId": "00ec885c-4204-4a25-fe3e-991e5302a9a3"
      },
      "outputs": [
        {
          "name": "stdout",
          "output_type": "stream",
          "text": [
            "Inference Time: 3.564259 seconds\n",
            "Summary\n",
            "======================\n",
            "Branch 1: Accuracy 92.01% with 84.72% of the samples\n",
            "Branch 2: Accuracy 77.19% with 15.28% of the samples\n",
            "Overall Weighted Accuracy: 89.75%\n"
          ]
        }
      ],
      "source": [
        "inference_time = 0\n",
        "start_time = time.time()\n",
        "eeRecorder_V0, preds_V0, acc_V0 = infer(test_loader, threshold=1.1, verbose=False)\n",
        "inference_time = time.time() - start_time\n",
        "inference_times.append(inference_time)\n",
        "print('Inference Time: {:3f} seconds'.format(inference_time))\n",
        "accuracy = testingSummary(eeRecorder_V0, nBranches=2, overall=True)\n",
        "accuracies.append(accuracy)"
      ]
    },
    {
      "cell_type": "code",
      "execution_count": 49,
      "metadata": {
        "colab": {
          "base_uri": "https://localhost:8080/"
        },
        "id": "uM2caHq_lNoY",
        "outputId": "69460124-d46c-4241-c048-873277fe3cc3"
      },
      "outputs": [
        {
          "name": "stdout",
          "output_type": "stream",
          "text": [
            "Inference Time: 3.220934 seconds\n",
            "Summary\n",
            "======================\n",
            "Branch 1: Accuracy 90.69% with 90.48% of the samples\n",
            "Branch 2: Accuracy 76.17% with 9.52% of the samples\n",
            "Overall Weighted Accuracy: 89.30%\n"
          ]
        }
      ],
      "source": [
        "inference_time = 0\n",
        "start_time = time.time()\n",
        "eeRecorder_V0, preds_V0, acc_V0 = infer(test_loader, threshold=1.2, verbose=False)\n",
        "inference_time = time.time() - start_time\n",
        "inference_times.append(inference_time)\n",
        "print('Inference Time: {:3f} seconds'.format(inference_time))\n",
        "accuracy = testingSummary(eeRecorder_V0, nBranches=2, overall=True)\n",
        "accuracies.append(accuracy)"
      ]
    },
    {
      "cell_type": "code",
      "execution_count": 50,
      "metadata": {
        "colab": {
          "base_uri": "https://localhost:8080/"
        },
        "id": "S--mC_5slPqo",
        "outputId": "32e7314e-1129-4277-c03b-820bc0482ff3"
      },
      "outputs": [
        {
          "name": "stdout",
          "output_type": "stream",
          "text": [
            "Inference Time: 2.860422 seconds\n",
            "Summary\n",
            "======================\n",
            "Branch 1: Accuracy 88.58% with 96.19% of the samples\n",
            "Branch 2: Accuracy 78.72% with 3.81% of the samples\n",
            "Overall Weighted Accuracy: 88.21%\n"
          ]
        }
      ],
      "source": [
        "inference_time = 0\n",
        "start_time = time.time()\n",
        "eeRecorder_V0, preds_V0, acc_V0 = infer(test_loader, threshold=1.3, verbose=False)\n",
        "inference_time = time.time() - start_time\n",
        "inference_times.append(inference_time)\n",
        "print('Inference Time: {:3f} seconds'.format(inference_time))\n",
        "accuracy = testingSummary(eeRecorder_V0, nBranches=2, overall=True)\n",
        "accuracies.append(accuracy)"
      ]
    },
    {
      "cell_type": "code",
      "execution_count": 51,
      "metadata": {
        "colab": {
          "base_uri": "https://localhost:8080/"
        },
        "id": "jqQAsnGtlR3n",
        "outputId": "cc248342-50bd-44c3-dd3c-7ac191f69e65"
      },
      "outputs": [
        {
          "name": "stdout",
          "output_type": "stream",
          "text": [
            "Inference Time: 2.520681 seconds\n",
            "Summary\n",
            "======================\n",
            "Branch 1: Accuracy 87.07% with 99.35% of the samples\n",
            "Branch 2: Accuracy 68.75% with 0.65% of the samples\n",
            "Overall Weighted Accuracy: 86.95%\n"
          ]
        }
      ],
      "source": [
        "inference_time = 0\n",
        "start_time = time.time()\n",
        "eeRecorder_V0, preds_V0, acc_V0 = infer(test_loader, threshold=1.4, verbose=False)\n",
        "inference_time = time.time() - start_time\n",
        "inference_times.append(inference_time)\n",
        "print('Inference Time: {:3f} seconds'.format(inference_time))\n",
        "accuracy = testingSummary(eeRecorder_V0, nBranches=2, overall=True)\n",
        "accuracies.append(accuracy)"
      ]
    },
    {
      "cell_type": "code",
      "execution_count": 52,
      "metadata": {
        "colab": {
          "base_uri": "https://localhost:8080/"
        },
        "id": "W9UKRbLLlUuV",
        "outputId": "60bd5d83-085d-4ad1-dd29-2b71f9e6543f"
      },
      "outputs": [
        {
          "name": "stdout",
          "output_type": "stream",
          "text": [
            "Inference Time: 2.514884 seconds\n",
            "Summary\n",
            "======================\n",
            "Branch 1: Accuracy 86.66% with 99.96% of the samples\n",
            "Branch 2: Accuracy 0.00% with 0.04% of the samples\n",
            "Overall Weighted Accuracy: 86.63%\n"
          ]
        }
      ],
      "source": [
        "inference_time = 0\n",
        "start_time = time.time()\n",
        "eeRecorder_V0, preds_V0, acc_V0 = infer(test_loader, threshold=1.5, verbose=False)\n",
        "inference_time = time.time() - start_time\n",
        "inference_times.append(inference_time)\n",
        "print('Inference Time: {:3f} seconds'.format(inference_time))\n",
        "accuracy = testingSummary(eeRecorder_V0, nBranches=2, overall=True)\n",
        "accuracies.append(accuracy)"
      ]
    },
    {
      "cell_type": "code",
      "execution_count": 53,
      "metadata": {
        "colab": {
          "base_uri": "https://localhost:8080/"
        },
        "id": "xawSuhXHM1rA",
        "outputId": "bc1aac96-84ff-44bb-e98e-9512d43ba5c8"
      },
      "outputs": [
        {
          "name": "stdout",
          "output_type": "stream",
          "text": [
            "Inference Time: 2.519719 seconds\n",
            "Summary\n",
            "======================\n",
            "Branch 1: Accuracy 86.63% with 100.00% of the samples\n",
            "Branch 2: Got 0% of the samples\n",
            "Overall Weighted Accuracy: 86.63%\n"
          ]
        }
      ],
      "source": [
        "inference_time = 0\n",
        "start_time = time.time()\n",
        "eeRecorder_V0, preds_V0, acc_V0 = infer(test_loader, threshold=1.6, verbose=False)\n",
        "inference_time = time.time() - start_time\n",
        "inference_times.append(inference_time)\n",
        "print('Inference Time: {:3f} seconds'.format(inference_time))\n",
        "accuracy = testingSummary(eeRecorder_V0, nBranches=2, overall=True)\n",
        "accuracies.append(accuracy)"
      ]
    },
    {
      "cell_type": "code",
      "execution_count": 54,
      "metadata": {
        "colab": {
          "base_uri": "https://localhost:8080/"
        },
        "id": "-g0IZt8GM7Qc",
        "outputId": "8eae5037-b944-48ae-dc81-ccf44326efb3"
      },
      "outputs": [
        {
          "name": "stdout",
          "output_type": "stream",
          "text": [
            "Inference Time: 2.526888 seconds\n",
            "Summary\n",
            "======================\n",
            "Branch 1: Accuracy 86.63% with 100.00% of the samples\n",
            "Branch 2: Got 0% of the samples\n",
            "Overall Weighted Accuracy: 86.63%\n"
          ]
        }
      ],
      "source": [
        "inference_time = 0\n",
        "start_time = time.time()\n",
        "eeRecorder_V0, preds_V0, acc_V0 = infer(test_loader, threshold=1.7, verbose=False)\n",
        "inference_time = time.time() - start_time\n",
        "inference_times.append(inference_time)\n",
        "print('Inference Time: {:3f} seconds'.format(inference_time))\n",
        "accuracy = testingSummary(eeRecorder_V0, nBranches=2, overall=True)\n",
        "accuracies.append(accuracy)"
      ]
    },
    {
      "cell_type": "code",
      "execution_count": 55,
      "metadata": {
        "colab": {
          "base_uri": "https://localhost:8080/"
        },
        "id": "Fur5evB3M-ln",
        "outputId": "38cff88a-5c91-4c64-bd56-10c929eeba5c"
      },
      "outputs": [
        {
          "name": "stdout",
          "output_type": "stream",
          "text": [
            "Inference Time: 2.466304 seconds\n",
            "Summary\n",
            "======================\n",
            "Branch 1: Accuracy 86.63% with 100.00% of the samples\n",
            "Branch 2: Got 0% of the samples\n",
            "Overall Weighted Accuracy: 86.63%\n"
          ]
        }
      ],
      "source": [
        "inference_time = 0\n",
        "start_time = time.time()\n",
        "eeRecorder_V0, preds_V0, acc_V0 = infer(test_loader, threshold=1.8, verbose=False)\n",
        "inference_time = time.time() - start_time\n",
        "inference_times.append(inference_time)\n",
        "print('Inference Time: {:3f} seconds'.format(inference_time))\n",
        "accuracy = testingSummary(eeRecorder_V0, nBranches=2, overall=True)\n",
        "accuracies.append(accuracy)"
      ]
    },
    {
      "cell_type": "code",
      "execution_count": 56,
      "metadata": {
        "colab": {
          "base_uri": "https://localhost:8080/"
        },
        "id": "5sQ6AJscNBEb",
        "outputId": "0a5d37ed-0a6f-4e0e-bb3a-6df6949dc5cd"
      },
      "outputs": [
        {
          "name": "stdout",
          "output_type": "stream",
          "text": [
            "Inference Time: 2.487118 seconds\n",
            "Summary\n",
            "======================\n",
            "Branch 1: Accuracy 86.63% with 100.00% of the samples\n",
            "Branch 2: Got 0% of the samples\n",
            "Overall Weighted Accuracy: 86.63%\n"
          ]
        }
      ],
      "source": [
        "inference_time = 0\n",
        "start_time = time.time()\n",
        "eeRecorder_V0, preds_V0, acc_V0 = infer(test_loader, threshold=1.9, verbose=False)\n",
        "inference_time = time.time() - start_time\n",
        "inference_times.append(inference_time)\n",
        "print('Inference Time: {:3f} seconds'.format(inference_time))\n",
        "accuracy = testingSummary(eeRecorder_V0, nBranches=2, overall=True)\n",
        "accuracies.append(accuracy)"
      ]
    },
    {
      "cell_type": "code",
      "execution_count": 57,
      "metadata": {
        "colab": {
          "base_uri": "https://localhost:8080/"
        },
        "id": "p7S0a1mgNDCh",
        "outputId": "9c3ea922-b7af-4e45-aa9f-5dde45d34a28"
      },
      "outputs": [
        {
          "name": "stdout",
          "output_type": "stream",
          "text": [
            "Inference Time: 2.463903 seconds\n",
            "Summary\n",
            "======================\n",
            "Branch 1: Accuracy 86.63% with 100.00% of the samples\n",
            "Branch 2: Got 0% of the samples\n",
            "Overall Weighted Accuracy: 86.63%\n"
          ]
        }
      ],
      "source": [
        "inference_time = 0\n",
        "start_time = time.time()\n",
        "eeRecorder_V0, preds_V0, acc_V0 = infer(test_loader, threshold=2, verbose=False)\n",
        "inference_time = time.time() - start_time\n",
        "inference_times.append(inference_time)\n",
        "print('Inference Time: {:3f} seconds'.format(inference_time))\n",
        "accuracy = testingSummary(eeRecorder_V0, nBranches=2, overall=True)\n",
        "accuracies.append(accuracy)"
      ]
    },
    {
      "cell_type": "code",
      "execution_count": 58,
      "metadata": {
        "colab": {
          "base_uri": "https://localhost:8080/"
        },
        "id": "cEFfCQeaZayA",
        "outputId": "6e305c50-cc3d-45ad-a8f1-3c628e67b850"
      },
      "outputs": [
        {
          "name": "stdout",
          "output_type": "stream",
          "text": [
            "[10.457915782928467, 10.588154792785645, 10.224608421325684, 9.86659860610962, 9.340453147888184, 8.362524271011353, 7.119032144546509, 6.295464515686035, 5.7809202671051025, 4.908689975738525, 4.345482349395752, 3.5642588138580322, 3.2209343910217285, 2.860422134399414, 2.5206809043884277, 2.514883518218994, 2.519719123840332, 2.526888370513916, 2.466303586959839, 2.4871175289154053, 2.4639031887054443]\n",
            "[91.9773095623987, 91.9773095623987, 91.9773095623987, 91.9773095623987, 92.01782820097245, 91.9773095623987, 91.9773095623987, 91.73419773095624, 91.77471636952998, 91.45056726094003, 90.80226904376013, 89.74878444084278, 89.3030794165316, 88.20907617504052, 86.95299837925445, 86.6288492706645, 86.6288492706645, 86.6288492706645, 86.6288492706645, 86.6288492706645, 86.6288492706645]\n"
          ]
        }
      ],
      "source": [
        "print(inference_times)\n",
        "print(accuracies)"
      ]
    },
    {
      "cell_type": "code",
      "execution_count": 59,
      "metadata": {
        "colab": {
          "base_uri": "https://localhost:8080/"
        },
        "id": "G5WzXGEzbu4o",
        "outputId": "1986587f-3efa-4e5b-d5ba-5724400cc76d"
      },
      "outputs": [
        {
          "name": "stdout",
          "output_type": "stream",
          "text": [
            "Collecting adjustText\n",
            "  Downloading adjustText-1.1.1-py3-none-any.whl (11 kB)\n",
            "Requirement already satisfied: numpy in /usr/local/lib/python3.10/dist-packages (from adjustText) (1.25.2)\n",
            "Requirement already satisfied: matplotlib in /usr/local/lib/python3.10/dist-packages (from adjustText) (3.7.1)\n",
            "Requirement already satisfied: scipy in /usr/local/lib/python3.10/dist-packages (from adjustText) (1.11.4)\n",
            "Requirement already satisfied: contourpy>=1.0.1 in /usr/local/lib/python3.10/dist-packages (from matplotlib->adjustText) (1.2.1)\n",
            "Requirement already satisfied: cycler>=0.10 in /usr/local/lib/python3.10/dist-packages (from matplotlib->adjustText) (0.12.1)\n",
            "Requirement already satisfied: fonttools>=4.22.0 in /usr/local/lib/python3.10/dist-packages (from matplotlib->adjustText) (4.51.0)\n",
            "Requirement already satisfied: kiwisolver>=1.0.1 in /usr/local/lib/python3.10/dist-packages (from matplotlib->adjustText) (1.4.5)\n",
            "Requirement already satisfied: packaging>=20.0 in /usr/local/lib/python3.10/dist-packages (from matplotlib->adjustText) (24.0)\n",
            "Requirement already satisfied: pillow>=6.2.0 in /usr/local/lib/python3.10/dist-packages (from matplotlib->adjustText) (9.4.0)\n",
            "Requirement already satisfied: pyparsing>=2.3.1 in /usr/local/lib/python3.10/dist-packages (from matplotlib->adjustText) (3.1.2)\n",
            "Requirement already satisfied: python-dateutil>=2.7 in /usr/local/lib/python3.10/dist-packages (from matplotlib->adjustText) (2.8.2)\n",
            "Requirement already satisfied: six>=1.5 in /usr/local/lib/python3.10/dist-packages (from python-dateutil>=2.7->matplotlib->adjustText) (1.16.0)\n",
            "Installing collected packages: adjustText\n",
            "Successfully installed adjustText-1.1.1\n"
          ]
        }
      ],
      "source": [
        "!pip install adjustText"
      ]
    },
    {
      "cell_type": "code",
      "execution_count": 60,
      "metadata": {
        "colab": {
          "base_uri": "https://localhost:8080/",
          "height": 484
        },
        "id": "NLwWfowBNJBR",
        "outputId": "82424efa-5772-4f9a-f2c1-c66b949a57b9"
      },
      "outputs": [
        {
          "data": {
            "text/plain": [
              "<Figure size 1000x600 with 0 Axes>"
            ]
          },
          "metadata": {},
          "output_type": "display_data"
        },
        {
          "data": {
            "image/png": "[encoded data removed]",
            "text/plain": [
              "<Figure size 640x480 with 1 Axes>"
            ]
          },
          "metadata": {},
          "output_type": "display_data"
        },
        {
          "data": {
            "text/plain": [
              "<Figure size 5e+06x5e+06 with 0 Axes>"
            ]
          },
          "metadata": {},
          "output_type": "display_data"
        }
      ],
      "source": [
        "from adjustText import adjust_text\n",
        "entropies = [x/10 for x in range(0, 21)]\n",
        "# Creating the scatter plot\n",
        "plt.figure(figsize=(10, 6))\n",
        "fig, ax = plt.subplots()\n",
        "scatter = ax.scatter(inference_times, accuracies, c='blue')\n",
        "\n",
        "texts = []\n",
        "for i, txt in enumerate(entropies):\n",
        "    text = ax.annotate(str(txt), (inference_times[i], accuracies[i]))\n",
        "    texts.append(text)\n",
        "\n",
        "adjust_text(texts, arrowprops=dict(arrowstyle='->', color='black'))\n",
        "plt.figure(figsize=(50000, 50000))\n",
        "ax.set_xlabel('Inference Times')\n",
        "ax.set_ylabel('Accuracies')\n",
        "plt.show()"
      ]
    }
  ],
  "metadata": {
    "accelerator": "GPU",
    "colab": {
      "gpuType": "V100",
      "machine_shape": "hm",
      "provenance": [],
      "toc_visible": true
    },
    "kernelspec": {
      "display_name": "Python 3",
      "name": "python3"
    },
    "language_info": {
      "name": "python"
    }
  },
  "nbformat": 4,
  "nbformat_minor": 0
}
